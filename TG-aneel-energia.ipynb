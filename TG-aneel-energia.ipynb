{
 "cells": [
  {
   "cell_type": "markdown",
   "metadata": {},
   "source": [
    "## Importação do Dataset"
   ]
  },
  {
   "cell_type": "code",
   "execution_count": 62,
   "metadata": {
    "executionInfo": {
     "elapsed": 2169,
     "status": "ok",
     "timestamp": 1679866599460,
     "user": {
      "displayName": "Liliane Paulino f. do Nascimento",
      "userId": "10025885037972274022"
     },
     "user_tz": 180
    },
    "id": "zDmbvpgFWCbU"
   },
   "outputs": [],
   "source": [
    "import pandas as pd\n",
    "import seaborn as sns\n",
    "%matplotlib inline\n",
    "from matplotlib import pyplot as plt"
   ]
  },
  {
   "cell_type": "code",
   "execution_count": 63,
   "metadata": {
    "executionInfo": {
     "elapsed": 54,
     "status": "ok",
     "timestamp": 1679866599461,
     "user": {
      "displayName": "Liliane Paulino f. do Nascimento",
      "userId": "10025885037972274022"
     },
     "user_tz": 180
    },
    "id": "xpRyON0MoU36"
   },
   "outputs": [],
   "source": [
    "df= pd.read_csv(\"siga-empreendimentos-geracao.csv\",encoding=\"ISO-8859-1\", sep=\";\")"
   ]
  },
  {
   "cell_type": "code",
   "execution_count": 64,
   "metadata": {
    "executionInfo": {
     "elapsed": 57,
     "status": "ok",
     "timestamp": 1679866599461,
     "user": {
      "displayName": "Liliane Paulino f. do Nascimento",
      "userId": "10025885037972274022"
     },
     "user_tz": 180
    },
    "id": "aE8trQQ4xlHR"
   },
   "outputs": [],
   "source": [
    "#método para mostrar todas as colunas e nenhuma ser omitida\n",
    "pd.options.display.max_columns = None"
   ]
  },
  {
   "cell_type": "markdown",
   "metadata": {
    "id": "o6g_7aXehHDA"
   },
   "source": [
    "## Análise Preliminar do Dataframe"
   ]
  },
  {
   "cell_type": "code",
   "execution_count": 65,
   "metadata": {
    "colab": {
     "base_uri": "https://localhost:8080/",
     "height": 461
    },
    "executionInfo": {
     "elapsed": 53,
     "status": "ok",
     "timestamp": 1679866599461,
     "user": {
      "displayName": "Liliane Paulino f. do Nascimento",
      "userId": "10025885037972274022"
     },
     "user_tz": 180
    },
    "id": "fFkDEhgQqKBJ",
    "outputId": "58367fba-5e65-431f-f6a4-f496c2a05414"
   },
   "outputs": [
    {
     "data": {
      "text/html": [
       "<div>\n",
       "<style scoped>\n",
       "    .dataframe tbody tr th:only-of-type {\n",
       "        vertical-align: middle;\n",
       "    }\n",
       "\n",
       "    .dataframe tbody tr th {\n",
       "        vertical-align: top;\n",
       "    }\n",
       "\n",
       "    .dataframe thead th {\n",
       "        text-align: right;\n",
       "    }\n",
       "</style>\n",
       "<table border=\"1\" class=\"dataframe\">\n",
       "  <thead>\n",
       "    <tr style=\"text-align: right;\">\n",
       "      <th></th>\n",
       "      <th>DatGeracaoConjuntoDados</th>\n",
       "      <th>NomEmpreendimento</th>\n",
       "      <th>IdeNucleoCEG</th>\n",
       "      <th>CodCEG</th>\n",
       "      <th>SigUFPrincipal</th>\n",
       "      <th>SigTipoGeracao</th>\n",
       "      <th>DscFaseUsina</th>\n",
       "      <th>DscOrigemCombustivel</th>\n",
       "      <th>DscFonteCombustivel</th>\n",
       "      <th>DscTipoOutorga</th>\n",
       "      <th>NomFonteCombustivel</th>\n",
       "      <th>DatEntradaOperacao</th>\n",
       "      <th>MdaPotenciaOutorgadaKw</th>\n",
       "      <th>MdaPotenciaFiscalizadaKw</th>\n",
       "      <th>MdaGarantiaFisicaKw</th>\n",
       "      <th>IdcGeracaoQualificada</th>\n",
       "      <th>NumCoordNEmpreendimento</th>\n",
       "      <th>NumCoordEEmpreendimento</th>\n",
       "      <th>DatInicioVigencia</th>\n",
       "      <th>DatFimVigencia</th>\n",
       "      <th>DscPropriRegimePariticipacao</th>\n",
       "      <th>DscSubBacia</th>\n",
       "      <th>DscMuninicpios</th>\n",
       "    </tr>\n",
       "  </thead>\n",
       "  <tbody>\n",
       "    <tr>\n",
       "      <th>0</th>\n",
       "      <td>2023-03-17</td>\n",
       "      <td>E</td>\n",
       "      <td>8</td>\n",
       "      <td>PCH.PH.MG.000008-6.1</td>\n",
       "      <td>MG</td>\n",
       "      <td>PCH</td>\n",
       "      <td>Operação</td>\n",
       "      <td>Hídrica</td>\n",
       "      <td>Potencial hidráulico</td>\n",
       "      <td>Autorização</td>\n",
       "      <td>Potencial hidráulico</td>\n",
       "      <td>1953-11-20</td>\n",
       "      <td>1400,00</td>\n",
       "      <td>1400</td>\n",
       "      <td>,00</td>\n",
       "      <td>Não</td>\n",
       "      <td>-20,12479858</td>\n",
       "      <td>-43,87020250</td>\n",
       "      <td>2000-07-07</td>\n",
       "      <td>2030-07-07</td>\n",
       "      <td>100% para ANGLOGOLD ASHANTI CÓRREGO DO SÍTIO M...</td>\n",
       "      <td>41 - Das Velhas - Sao Francisco</td>\n",
       "      <td>Nova Lima - MG</td>\n",
       "    </tr>\n",
       "    <tr>\n",
       "      <th>1</th>\n",
       "      <td>2023-03-17</td>\n",
       "      <td>F</td>\n",
       "      <td>9</td>\n",
       "      <td>PCH.PH.MG.000009-4.1</td>\n",
       "      <td>MG</td>\n",
       "      <td>PCH</td>\n",
       "      <td>Operação</td>\n",
       "      <td>Hídrica</td>\n",
       "      <td>Potencial hidráulico</td>\n",
       "      <td>Autorização</td>\n",
       "      <td>Potencial hidráulico</td>\n",
       "      <td>1953-11-20</td>\n",
       "      <td>3972,00</td>\n",
       "      <td>3972</td>\n",
       "      <td>,00</td>\n",
       "      <td>Não</td>\n",
       "      <td>-20,13187300</td>\n",
       "      <td>-43,87693500</td>\n",
       "      <td>2000-07-07</td>\n",
       "      <td>2030-07-07</td>\n",
       "      <td>100% para ANGLOGOLD ASHANTI CÓRREGO DO SÍTIO M...</td>\n",
       "      <td>41 - Das Velhas - Sao Francisco</td>\n",
       "      <td>Nova Lima - MG</td>\n",
       "    </tr>\n",
       "    <tr>\n",
       "      <th>2</th>\n",
       "      <td>2023-03-17</td>\n",
       "      <td>G</td>\n",
       "      <td>10</td>\n",
       "      <td>PCH.PH.MG.000010-8.1</td>\n",
       "      <td>MG</td>\n",
       "      <td>PCH</td>\n",
       "      <td>Operação</td>\n",
       "      <td>Hídrica</td>\n",
       "      <td>Potencial hidráulico</td>\n",
       "      <td>Autorização</td>\n",
       "      <td>Potencial hidráulico</td>\n",
       "      <td>1937-01-01</td>\n",
       "      <td>1440,00</td>\n",
       "      <td>1440</td>\n",
       "      <td>,00</td>\n",
       "      <td>Não</td>\n",
       "      <td>-20,13754468</td>\n",
       "      <td>-43,89192620</td>\n",
       "      <td>2000-08-31</td>\n",
       "      <td>2030-08-31</td>\n",
       "      <td>100% para ANGLOGOLD ASHANTI CÓRREGO DO SÍTIO M...</td>\n",
       "      <td>41 - Das Velhas - Sao Francisco</td>\n",
       "      <td>Nova Lima - MG</td>\n",
       "    </tr>\n",
       "    <tr>\n",
       "      <th>3</th>\n",
       "      <td>2023-03-17</td>\n",
       "      <td>14 de Julho</td>\n",
       "      <td>12</td>\n",
       "      <td>UHE.PH.RS.000012-4.1</td>\n",
       "      <td>RS</td>\n",
       "      <td>UHE</td>\n",
       "      <td>Operação</td>\n",
       "      <td>Hídrica</td>\n",
       "      <td>Potencial hidráulico</td>\n",
       "      <td>Concessão</td>\n",
       "      <td>Potencial hidráulico</td>\n",
       "      <td>2008-12-25</td>\n",
       "      <td>100000,00</td>\n",
       "      <td>100000</td>\n",
       "      <td>45200,00</td>\n",
       "      <td>Não</td>\n",
       "      <td>-29,06475278</td>\n",
       "      <td>-51,67494167</td>\n",
       "      <td>2001-03-15</td>\n",
       "      <td>2039-11-13</td>\n",
       "      <td>100% para COMPANHIA ENERGÉTICA RIO DAS ANTAS (...</td>\n",
       "      <td>86 - Taquari</td>\n",
       "      <td>Bento Gonçalves - RS, Cotiporã - RS</td>\n",
       "    </tr>\n",
       "    <tr>\n",
       "      <th>4</th>\n",
       "      <td>2023-03-17</td>\n",
       "      <td>Abaúna</td>\n",
       "      <td>15</td>\n",
       "      <td>CGH.PH.RS.000015-9.1</td>\n",
       "      <td>RS</td>\n",
       "      <td>CGH</td>\n",
       "      <td>Operação</td>\n",
       "      <td>Hídrica</td>\n",
       "      <td>Potencial hidráulico</td>\n",
       "      <td>Registro</td>\n",
       "      <td>Potencial hidráulico</td>\n",
       "      <td>2000-10-15</td>\n",
       "      <td>720,00</td>\n",
       "      <td>720</td>\n",
       "      <td>510,00</td>\n",
       "      <td>Não</td>\n",
       "      <td>-27,82377500</td>\n",
       "      <td>-52,06999722</td>\n",
       "      <td>NaN</td>\n",
       "      <td>NaN</td>\n",
       "      <td>100% para Cooperativa de Geração de Energia e ...</td>\n",
       "      <td>72 - Uruguai, Inhanduva, Peixe e outros</td>\n",
       "      <td>Floriano Peixoto - RS</td>\n",
       "    </tr>\n",
       "  </tbody>\n",
       "</table>\n",
       "</div>"
      ],
      "text/plain": [
       "  DatGeracaoConjuntoDados NomEmpreendimento  IdeNucleoCEG  \\\n",
       "0              2023-03-17                 E             8   \n",
       "1              2023-03-17                 F             9   \n",
       "2              2023-03-17                 G            10   \n",
       "3              2023-03-17       14 de Julho            12   \n",
       "4              2023-03-17            Abaúna            15   \n",
       "\n",
       "                 CodCEG SigUFPrincipal SigTipoGeracao DscFaseUsina  \\\n",
       "0  PCH.PH.MG.000008-6.1             MG            PCH     Operação   \n",
       "1  PCH.PH.MG.000009-4.1             MG            PCH     Operação   \n",
       "2  PCH.PH.MG.000010-8.1             MG            PCH     Operação   \n",
       "3  UHE.PH.RS.000012-4.1             RS            UHE     Operação   \n",
       "4  CGH.PH.RS.000015-9.1             RS            CGH     Operação   \n",
       "\n",
       "  DscOrigemCombustivel   DscFonteCombustivel DscTipoOutorga  \\\n",
       "0              Hídrica  Potencial hidráulico    Autorização   \n",
       "1              Hídrica  Potencial hidráulico    Autorização   \n",
       "2              Hídrica  Potencial hidráulico    Autorização   \n",
       "3              Hídrica  Potencial hidráulico      Concessão   \n",
       "4              Hídrica  Potencial hidráulico       Registro   \n",
       "\n",
       "    NomFonteCombustivel DatEntradaOperacao MdaPotenciaOutorgadaKw  \\\n",
       "0  Potencial hidráulico         1953-11-20                1400,00   \n",
       "1  Potencial hidráulico         1953-11-20                3972,00   \n",
       "2  Potencial hidráulico         1937-01-01                1440,00   \n",
       "3  Potencial hidráulico         2008-12-25              100000,00   \n",
       "4  Potencial hidráulico         2000-10-15                 720,00   \n",
       "\n",
       "   MdaPotenciaFiscalizadaKw MdaGarantiaFisicaKw IdcGeracaoQualificada  \\\n",
       "0                      1400                 ,00                   Não   \n",
       "1                      3972                 ,00                   Não   \n",
       "2                      1440                 ,00                   Não   \n",
       "3                    100000            45200,00                   Não   \n",
       "4                       720              510,00                   Não   \n",
       "\n",
       "  NumCoordNEmpreendimento NumCoordEEmpreendimento DatInicioVigencia  \\\n",
       "0            -20,12479858            -43,87020250        2000-07-07   \n",
       "1            -20,13187300            -43,87693500        2000-07-07   \n",
       "2            -20,13754468            -43,89192620        2000-08-31   \n",
       "3            -29,06475278            -51,67494167        2001-03-15   \n",
       "4            -27,82377500            -52,06999722               NaN   \n",
       "\n",
       "  DatFimVigencia                       DscPropriRegimePariticipacao  \\\n",
       "0     2030-07-07  100% para ANGLOGOLD ASHANTI CÓRREGO DO SÍTIO M...   \n",
       "1     2030-07-07  100% para ANGLOGOLD ASHANTI CÓRREGO DO SÍTIO M...   \n",
       "2     2030-08-31  100% para ANGLOGOLD ASHANTI CÓRREGO DO SÍTIO M...   \n",
       "3     2039-11-13  100% para COMPANHIA ENERGÉTICA RIO DAS ANTAS (...   \n",
       "4            NaN  100% para Cooperativa de Geração de Energia e ...   \n",
       "\n",
       "                                DscSubBacia  \\\n",
       "0           41 - Das Velhas - Sao Francisco   \n",
       "1           41 - Das Velhas - Sao Francisco   \n",
       "2           41 - Das Velhas - Sao Francisco   \n",
       "3                              86 - Taquari   \n",
       "4   72 - Uruguai, Inhanduva, Peixe e outros   \n",
       "\n",
       "                        DscMuninicpios  \n",
       "0                       Nova Lima - MG  \n",
       "1                       Nova Lima - MG  \n",
       "2                       Nova Lima - MG  \n",
       "3  Bento Gonçalves - RS, Cotiporã - RS  \n",
       "4                Floriano Peixoto - RS  "
      ]
     },
     "execution_count": 65,
     "metadata": {},
     "output_type": "execute_result"
    }
   ],
   "source": [
    "df.head()"
   ]
  },
  {
   "cell_type": "code",
   "execution_count": 66,
   "metadata": {},
   "outputs": [
    {
     "name": "stdout",
     "output_type": "stream",
     "text": [
      "Index(['DatGeracaoConjuntoDados', 'NomEmpreendimento', 'IdeNucleoCEG',\n",
      "       'CodCEG', 'SigUFPrincipal', 'SigTipoGeracao', 'DscFaseUsina',\n",
      "       'DscOrigemCombustivel', 'DscFonteCombustivel', 'DscTipoOutorga',\n",
      "       'NomFonteCombustivel', 'DatEntradaOperacao', 'MdaPotenciaOutorgadaKw',\n",
      "       'MdaPotenciaFiscalizadaKw', 'MdaGarantiaFisicaKw',\n",
      "       'IdcGeracaoQualificada', 'NumCoordNEmpreendimento',\n",
      "       'NumCoordEEmpreendimento', 'DatInicioVigencia', 'DatFimVigencia',\n",
      "       'DscPropriRegimePariticipacao', 'DscSubBacia', 'DscMuninicpios'],\n",
      "      dtype='object')\n"
     ]
    }
   ],
   "source": [
    "print(df.columns)"
   ]
  },
  {
   "cell_type": "code",
   "execution_count": 67,
   "metadata": {},
   "outputs": [],
   "source": [
    "#mudando a ordem das colunas para facilitar a visualização do dados\n",
    "new_order_colunm = [ 'NomEmpreendimento','SigUFPrincipal', 'SigTipoGeracao', \n",
    "       'DscOrigemCombustivel', 'DscFonteCombustivel', \n",
    "       'NomFonteCombustivel', 'MdaPotenciaOutorgadaKw',\n",
    "       'MdaPotenciaFiscalizadaKw', 'MdaGarantiaFisicaKw','DscFaseUsina','DscSubBacia',\n",
    "        'DatEntradaOperacao','DatInicioVigencia','DatFimVigencia',\n",
    "       'NumCoordNEmpreendimento', 'NumCoordEEmpreendimento','DscTipoOutorga',\n",
    "       'DscPropriRegimePariticipacao', 'DscMuninicpios','IdeNucleoCEG','CodCEG',\n",
    "       'IdcGeracaoQualificada',\n",
    "       'DatGeracaoConjuntoDados']\n",
    "df = df[new_order_colunm]"
   ]
  },
  {
   "cell_type": "code",
   "execution_count": 68,
   "metadata": {
    "colab": {
     "base_uri": "https://localhost:8080/",
     "height": 277
    },
    "executionInfo": {
     "elapsed": 49,
     "status": "ok",
     "timestamp": 1679866599461,
     "user": {
      "displayName": "Liliane Paulino f. do Nascimento",
      "userId": "10025885037972274022"
     },
     "user_tz": 180
    },
    "id": "7NG-AI-WhVhu",
    "outputId": "608da3a9-1a20-49a0-cfb3-eb85380b36d8"
   },
   "outputs": [
    {
     "data": {
      "text/html": [
       "<div>\n",
       "<style scoped>\n",
       "    .dataframe tbody tr th:only-of-type {\n",
       "        vertical-align: middle;\n",
       "    }\n",
       "\n",
       "    .dataframe tbody tr th {\n",
       "        vertical-align: top;\n",
       "    }\n",
       "\n",
       "    .dataframe thead th {\n",
       "        text-align: right;\n",
       "    }\n",
       "</style>\n",
       "<table border=\"1\" class=\"dataframe\">\n",
       "  <thead>\n",
       "    <tr style=\"text-align: right;\">\n",
       "      <th></th>\n",
       "      <th>NomEmpreendimento</th>\n",
       "      <th>SigUFPrincipal</th>\n",
       "      <th>SigTipoGeracao</th>\n",
       "      <th>DscOrigemCombustivel</th>\n",
       "      <th>DscFonteCombustivel</th>\n",
       "      <th>NomFonteCombustivel</th>\n",
       "      <th>MdaPotenciaOutorgadaKw</th>\n",
       "      <th>MdaPotenciaFiscalizadaKw</th>\n",
       "      <th>MdaGarantiaFisicaKw</th>\n",
       "      <th>DscFaseUsina</th>\n",
       "      <th>DscSubBacia</th>\n",
       "      <th>DatEntradaOperacao</th>\n",
       "      <th>DatInicioVigencia</th>\n",
       "      <th>DatFimVigencia</th>\n",
       "      <th>NumCoordNEmpreendimento</th>\n",
       "      <th>NumCoordEEmpreendimento</th>\n",
       "      <th>DscTipoOutorga</th>\n",
       "      <th>DscPropriRegimePariticipacao</th>\n",
       "      <th>DscMuninicpios</th>\n",
       "      <th>IdeNucleoCEG</th>\n",
       "      <th>CodCEG</th>\n",
       "      <th>IdcGeracaoQualificada</th>\n",
       "      <th>DatGeracaoConjuntoDados</th>\n",
       "    </tr>\n",
       "  </thead>\n",
       "  <tbody>\n",
       "    <tr>\n",
       "      <th>7244</th>\n",
       "      <td>Wercles Vieira Vilela</td>\n",
       "      <td>PA</td>\n",
       "      <td>UFV</td>\n",
       "      <td>Solar</td>\n",
       "      <td>Radiação solar</td>\n",
       "      <td>Radiação solar</td>\n",
       "      <td>1,00</td>\n",
       "      <td>1</td>\n",
       "      <td>,00</td>\n",
       "      <td>Operação</td>\n",
       "      <td>NaN</td>\n",
       "      <td>2018-01-19</td>\n",
       "      <td>NaN</td>\n",
       "      <td>NaN</td>\n",
       "      <td>-1,60362000</td>\n",
       "      <td>-52,68014000</td>\n",
       "      <td>Registro</td>\n",
       "      <td>100% para EQUATORIAL PARÁ DISTRIBUIDORA DE ENE...</td>\n",
       "      <td>Porto de Moz - PA</td>\n",
       "      <td>39655</td>\n",
       "      <td>UFV.RS.PA.039655-9.1</td>\n",
       "      <td>NaN</td>\n",
       "      <td>2023-03-17</td>\n",
       "    </tr>\n",
       "    <tr>\n",
       "      <th>13891</th>\n",
       "      <td>Francisco de Oliveira Caudas</td>\n",
       "      <td>PA</td>\n",
       "      <td>UFV</td>\n",
       "      <td>Solar</td>\n",
       "      <td>Radiação solar</td>\n",
       "      <td>Radiação solar</td>\n",
       "      <td>1,00</td>\n",
       "      <td>1</td>\n",
       "      <td>,00</td>\n",
       "      <td>Operação</td>\n",
       "      <td>NaN</td>\n",
       "      <td>2021-12-22</td>\n",
       "      <td>NaN</td>\n",
       "      <td>NaN</td>\n",
       "      <td>-1,81634700</td>\n",
       "      <td>-51,24213400</td>\n",
       "      <td>Registro</td>\n",
       "      <td>100% para EQUATORIAL PARÁ DISTRIBUIDORA DE ENE...</td>\n",
       "      <td>Portel - PA</td>\n",
       "      <td>58818</td>\n",
       "      <td>UFV.RS.PA.058818-0.1</td>\n",
       "      <td>NaN</td>\n",
       "      <td>2023-03-17</td>\n",
       "    </tr>\n",
       "    <tr>\n",
       "      <th>22248</th>\n",
       "      <td>Luiz Miller Evangelista Vasconcelos</td>\n",
       "      <td>PA</td>\n",
       "      <td>UFV</td>\n",
       "      <td>Solar</td>\n",
       "      <td>Radiação solar</td>\n",
       "      <td>Radiação solar</td>\n",
       "      <td>1,00</td>\n",
       "      <td>1</td>\n",
       "      <td>,00</td>\n",
       "      <td>Operação</td>\n",
       "      <td>NaN</td>\n",
       "      <td>2022-07-25</td>\n",
       "      <td>NaN</td>\n",
       "      <td>NaN</td>\n",
       "      <td>-1,78586200</td>\n",
       "      <td>-50,22504300</td>\n",
       "      <td>Registro</td>\n",
       "      <td>100% para EQUATORIAL PARÁ DISTRIBUIDORA DE ENE...</td>\n",
       "      <td>Curralinho - PA</td>\n",
       "      <td>67856</td>\n",
       "      <td>UFV.RS.PA.067856-2.1</td>\n",
       "      <td>NaN</td>\n",
       "      <td>2023-03-17</td>\n",
       "    </tr>\n",
       "  </tbody>\n",
       "</table>\n",
       "</div>"
      ],
      "text/plain": [
       "                         NomEmpreendimento SigUFPrincipal SigTipoGeracao  \\\n",
       "7244                 Wercles Vieira Vilela             PA            UFV   \n",
       "13891         Francisco de Oliveira Caudas             PA            UFV   \n",
       "22248  Luiz Miller Evangelista Vasconcelos             PA            UFV   \n",
       "\n",
       "      DscOrigemCombustivel DscFonteCombustivel NomFonteCombustivel  \\\n",
       "7244                 Solar      Radiação solar      Radiação solar   \n",
       "13891                Solar      Radiação solar      Radiação solar   \n",
       "22248                Solar      Radiação solar      Radiação solar   \n",
       "\n",
       "      MdaPotenciaOutorgadaKw  MdaPotenciaFiscalizadaKw MdaGarantiaFisicaKw  \\\n",
       "7244                    1,00                         1                 ,00   \n",
       "13891                   1,00                         1                 ,00   \n",
       "22248                   1,00                         1                 ,00   \n",
       "\n",
       "      DscFaseUsina DscSubBacia DatEntradaOperacao DatInicioVigencia  \\\n",
       "7244      Operação         NaN         2018-01-19               NaN   \n",
       "13891     Operação         NaN         2021-12-22               NaN   \n",
       "22248     Operação         NaN         2022-07-25               NaN   \n",
       "\n",
       "      DatFimVigencia NumCoordNEmpreendimento NumCoordEEmpreendimento  \\\n",
       "7244             NaN             -1,60362000            -52,68014000   \n",
       "13891            NaN             -1,81634700            -51,24213400   \n",
       "22248            NaN             -1,78586200            -50,22504300   \n",
       "\n",
       "      DscTipoOutorga                       DscPropriRegimePariticipacao  \\\n",
       "7244        Registro  100% para EQUATORIAL PARÁ DISTRIBUIDORA DE ENE...   \n",
       "13891       Registro  100% para EQUATORIAL PARÁ DISTRIBUIDORA DE ENE...   \n",
       "22248       Registro  100% para EQUATORIAL PARÁ DISTRIBUIDORA DE ENE...   \n",
       "\n",
       "          DscMuninicpios  IdeNucleoCEG                CodCEG  \\\n",
       "7244   Porto de Moz - PA         39655  UFV.RS.PA.039655-9.1   \n",
       "13891        Portel - PA         58818  UFV.RS.PA.058818-0.1   \n",
       "22248    Curralinho - PA         67856  UFV.RS.PA.067856-2.1   \n",
       "\n",
       "      IdcGeracaoQualificada DatGeracaoConjuntoDados  \n",
       "7244                    NaN              2023-03-17  \n",
       "13891                   NaN              2023-03-17  \n",
       "22248                   NaN              2023-03-17  "
      ]
     },
     "execution_count": 68,
     "metadata": {},
     "output_type": "execute_result"
    }
   ],
   "source": [
    "#escolha de elementos aleatorios\n",
    "df.sample(3)"
   ]
  },
  {
   "cell_type": "code",
   "execution_count": 69,
   "metadata": {
    "colab": {
     "base_uri": "https://localhost:8080/"
    },
    "executionInfo": {
     "elapsed": 48,
     "status": "ok",
     "timestamp": 1679866599462,
     "user": {
      "displayName": "Liliane Paulino f. do Nascimento",
      "userId": "10025885037972274022"
     },
     "user_tz": 180
    },
    "id": "mqXCbmTKqqzm",
    "outputId": "528e8e48-3b25-4e4f-ebe5-b425773131a7"
   },
   "outputs": [
    {
     "data": {
      "text/plain": [
       "(24600, 23)"
      ]
     },
     "execution_count": 69,
     "metadata": {},
     "output_type": "execute_result"
    }
   ],
   "source": [
    "#comando retorna a quantidade de linhas e colunas (linhas, colunas)\n",
    "df.shape"
   ]
  },
  {
   "cell_type": "code",
   "execution_count": 70,
   "metadata": {
    "colab": {
     "base_uri": "https://localhost:8080/"
    },
    "executionInfo": {
     "elapsed": 38,
     "status": "ok",
     "timestamp": 1679866599463,
     "user": {
      "displayName": "Liliane Paulino f. do Nascimento",
      "userId": "10025885037972274022"
     },
     "user_tz": 180
    },
    "id": "AdfyciDkGcqH",
    "outputId": "c8318c32-30e1-4d0a-b4d9-470e8921dff9"
   },
   "outputs": [
    {
     "name": "stdout",
     "output_type": "stream",
     "text": [
      "['Potencial hidráulico' 'Gás de Alto Forno - CM' 'Óleo Diesel'\n",
      " 'Bagaço de Cana de Açúcar' 'Gás Natural' 'Urânio' 'Licor Negro'\n",
      " 'Óleo Combustível' 'Calor de Processo - CM'\n",
      " 'Outros Energéticos de Petróleo' 'Carvão Mineral' 'Resíduos Florestais'\n",
      " 'Calor de Processo - GN' 'Gás de Refinaria' 'Biogás - RU'\n",
      " 'Cinética do vento' 'Lenha' 'Casca de Arroz' 'Radiação solar'\n",
      " 'Carvão Vegetal' 'Gás de Alto Forno - PE' 'Gás de Alto Forno - Biomassa'\n",
      " 'Calor de Processo - OF' 'Biogás - RA' 'Capim Elefante' 'Óleos vegetais'\n",
      " 'Biogás-AGR' 'Resíduos Sólidos Urbanos - RU' 'Biogás - Floresta' 'Etanol'\n",
      " 'Carvão - RU']\n"
     ]
    }
   ],
   "source": [
    "print(df['NomFonteCombustivel'].unique())"
   ]
  },
  {
   "cell_type": "code",
   "execution_count": 71,
   "metadata": {
    "colab": {
     "base_uri": "https://localhost:8080/"
    },
    "executionInfo": {
     "elapsed": 35,
     "status": "ok",
     "timestamp": 1679866599463,
     "user": {
      "displayName": "Liliane Paulino f. do Nascimento",
      "userId": "10025885037972274022"
     },
     "user_tz": 180
    },
    "id": "i-vrBW3hKAGZ",
    "outputId": "f2ff27a6-61c4-486c-deae-9f4cb15207c3"
   },
   "outputs": [
    {
     "name": "stdout",
     "output_type": "stream",
     "text": [
      "A série não é uma série temporal\n"
     ]
    }
   ],
   "source": [
    "if isinstance(df.index, pd.DatetimeIndex):\n",
    "    print(\"A série é uma série temporal\")\n",
    "else:\n",
    "    print(\"A série não é uma série temporal\")"
   ]
  },
  {
   "cell_type": "markdown",
   "metadata": {},
   "source": [
    "**Saber se todos os Estado estão presentes no dataset e a quantidade de cidades catalogadas**"
   ]
  },
  {
   "cell_type": "code",
   "execution_count": 72,
   "metadata": {
    "colab": {
     "base_uri": "https://localhost:8080/"
    },
    "executionInfo": {
     "elapsed": 30,
     "status": "ok",
     "timestamp": 1679866599464,
     "user": {
      "displayName": "Liliane Paulino f. do Nascimento",
      "userId": "10025885037972274022"
     },
     "user_tz": 180
    },
    "id": "Q9f76z7HK9dh",
    "outputId": "155113e2-b011-4341-d927-e8a2bb19748f"
   },
   "outputs": [
    {
     "data": {
      "text/plain": [
       "27"
      ]
     },
     "execution_count": 72,
     "metadata": {},
     "output_type": "execute_result"
    }
   ],
   "source": [
    "df['SigUFPrincipal'].nunique()"
   ]
  },
  {
   "cell_type": "code",
   "execution_count": 73,
   "metadata": {
    "colab": {
     "base_uri": "https://localhost:8080/"
    },
    "executionInfo": {
     "elapsed": 27,
     "status": "ok",
     "timestamp": 1679866599464,
     "user": {
      "displayName": "Liliane Paulino f. do Nascimento",
      "userId": "10025885037972274022"
     },
     "user_tz": 180
    },
    "id": "fFTtIPp4jUJ2",
    "outputId": "1772de65-0a82-4a46-86b1-e4fe2aafa9a4"
   },
   "outputs": [
    {
     "data": {
      "text/plain": [
       "array(['MG', 'RS', 'SC', 'TO', 'RR', 'MT', 'SP', 'ES', 'RO', 'AM', 'RJ',\n",
       "       'PR', 'CE', 'BA', 'MA', 'PI', 'AL', 'GO', 'PB', 'AP', 'MS', 'PE',\n",
       "       'PA', 'DF', 'SE', 'RN', 'AC'], dtype=object)"
      ]
     },
     "execution_count": 73,
     "metadata": {},
     "output_type": "execute_result"
    }
   ],
   "source": [
    "df['SigUFPrincipal'].unique()"
   ]
  },
  {
   "cell_type": "code",
   "execution_count": 74,
   "metadata": {
    "colab": {
     "base_uri": "https://localhost:8080/"
    },
    "executionInfo": {
     "elapsed": 25,
     "status": "ok",
     "timestamp": 1679866599464,
     "user": {
      "displayName": "Liliane Paulino f. do Nascimento",
      "userId": "10025885037972274022"
     },
     "user_tz": 180
    },
    "id": "sARuwvcqLKSq",
    "outputId": "8b41a4a5-596b-46c9-f791-29a2a08781df"
   },
   "outputs": [
    {
     "data": {
      "text/plain": [
       "2082"
      ]
     },
     "execution_count": 74,
     "metadata": {},
     "output_type": "execute_result"
    }
   ],
   "source": [
    "df['DscMuninicpios'].nunique()"
   ]
  },
  {
   "cell_type": "markdown",
   "metadata": {},
   "source": [
    "**Saber maior valor presente no dataframe**"
   ]
  },
  {
   "cell_type": "code",
   "execution_count": 75,
   "metadata": {
    "executionInfo": {
     "elapsed": 41,
     "status": "ok",
     "timestamp": 1679866601507,
     "user": {
      "displayName": "Liliane Paulino f. do Nascimento",
      "userId": "10025885037972274022"
     },
     "user_tz": 180
    },
    "id": "KYWb5NDGsgb-"
   },
   "outputs": [
    {
     "name": "stdout",
     "output_type": "stream",
     "text": [
      "NomEmpreendimento                                         Belo Monte\n",
      "SigUFPrincipal                                                    PA\n",
      "SigTipoGeracao                                                   UHE\n",
      "DscOrigemCombustivel                                         Hídrica\n",
      "DscFonteCombustivel                             Potencial hidráulico\n",
      "NomFonteCombustivel                             Potencial hidráulico\n",
      "MdaPotenciaOutorgadaKw                                   11233100,00\n",
      "MdaPotenciaFiscalizadaKw                                    11233100\n",
      "MdaGarantiaFisicaKw                                       4418900,00\n",
      "DscFaseUsina                                                Operação\n",
      "DscSubBacia                                        18 - Xingu e Paru\n",
      "DatEntradaOperacao                                        2016-04-20\n",
      "DatInicioVigencia                                         2010-08-26\n",
      "DatFimVigencia                                            2045-08-26\n",
      "NumCoordNEmpreendimento                                  -3,12638900\n",
      "NumCoordEEmpreendimento                                 -51,77500000\n",
      "DscTipoOutorga                                             Concessão\n",
      "DscPropriRegimePariticipacao       100% para NORTE ENERGIA S/A (PIE)\n",
      "DscMuninicpios                  Altamira - PA, Vitória do Xingu - PA\n",
      "IdeNucleoCEG                                                   30354\n",
      "CodCEG                                          UHE.PH.PA.030354-2.1\n",
      "IdcGeracaoQualificada                                            Não\n",
      "DatGeracaoConjuntoDados                                   2023-03-17\n",
      "Name: 2398, dtype: object\n"
     ]
    }
   ],
   "source": [
    "maior_pot = df['MdaPotenciaFiscalizadaKw'].idxmax()\n",
    "print(df.loc[maior_pot])"
   ]
  },
  {
   "cell_type": "markdown",
   "metadata": {},
   "source": [
    "**Saber os tipos de dados das variáveis para saber quais devem ser corrigidos**"
   ]
  },
  {
   "cell_type": "code",
   "execution_count": 76,
   "metadata": {},
   "outputs": [
    {
     "data": {
      "text/plain": [
       "NomEmpreendimento               object\n",
       "SigUFPrincipal                  object\n",
       "SigTipoGeracao                  object\n",
       "DscOrigemCombustivel            object\n",
       "DscFonteCombustivel             object\n",
       "NomFonteCombustivel             object\n",
       "MdaPotenciaOutorgadaKw          object\n",
       "MdaPotenciaFiscalizadaKw         int64\n",
       "MdaGarantiaFisicaKw             object\n",
       "DscFaseUsina                    object\n",
       "DscSubBacia                     object\n",
       "DatEntradaOperacao              object\n",
       "DatInicioVigencia               object\n",
       "DatFimVigencia                  object\n",
       "NumCoordNEmpreendimento         object\n",
       "NumCoordEEmpreendimento         object\n",
       "DscTipoOutorga                  object\n",
       "DscPropriRegimePariticipacao    object\n",
       "DscMuninicpios                  object\n",
       "IdeNucleoCEG                     int64\n",
       "CodCEG                          object\n",
       "IdcGeracaoQualificada           object\n",
       "DatGeracaoConjuntoDados         object\n",
       "dtype: object"
      ]
     },
     "execution_count": 76,
     "metadata": {},
     "output_type": "execute_result"
    }
   ],
   "source": [
    "df.dtypes"
   ]
  },
  {
   "cell_type": "markdown",
   "metadata": {
    "id": "_vDnI-hrti68"
   },
   "source": [
    "## Data Cleaning"
   ]
  },
  {
   "cell_type": "markdown",
   "metadata": {},
   "source": [
    "### Transformando os tipos de dados"
   ]
  },
  {
   "cell_type": "markdown",
   "metadata": {},
   "source": [
    "**As potências estão com o tipo object, devem ser convertidas para o tipo float paraconseguir trabalhar com esses dados**"
   ]
  },
  {
   "cell_type": "code",
   "execution_count": 77,
   "metadata": {
    "executionInfo": {
     "elapsed": 21,
     "status": "ok",
     "timestamp": 1679866599465,
     "user": {
      "displayName": "Liliane Paulino f. do Nascimento",
      "userId": "10025885037972274022"
     },
     "user_tz": 180
    },
    "id": "DF0T-t-VkpfL"
   },
   "outputs": [],
   "source": [
    "df['MdaPotenciaFiscalizadaKw'] = df['MdaPotenciaFiscalizadaKw'].astype(float)"
   ]
  },
  {
   "cell_type": "code",
   "execution_count": 78,
   "metadata": {},
   "outputs": [],
   "source": [
    "df['MdaPotenciaOutorgadaKw'] = df['MdaPotenciaOutorgadaKw'].str.replace(',', '.')\n",
    "df['MdaPotenciaOutorgadaKw'] = df['MdaPotenciaOutorgadaKw'].astype(float)\n"
   ]
  },
  {
   "cell_type": "code",
   "execution_count": 79,
   "metadata": {},
   "outputs": [],
   "source": [
    "df['MdaGarantiaFisicaKw'] = df['MdaGarantiaFisicaKw'].str.replace(',00', '.00')\n",
    "df['MdaGarantiaFisicaKw'] = df['MdaGarantiaFisicaKw'].astype(float)"
   ]
  },
  {
   "cell_type": "markdown",
   "metadata": {},
   "source": [
    "**As data também devem ser alteradas para o tipo datatime**"
   ]
  },
  {
   "cell_type": "code",
   "execution_count": 80,
   "metadata": {},
   "outputs": [],
   "source": [
    "df['DatEntradaOperacao'] = pd.to_datetime(df['DatEntradaOperacao'], format='%Y/%m/%d')\n",
    "df['DatInicioVigencia'] = pd.to_datetime(df['DatInicioVigencia'], format='%Y/%m/%d')\n",
    "df['DatFimVigencia'] = pd.to_datetime(df['DatFimVigencia'], format='%Y/%m/%d')"
   ]
  },
  {
   "cell_type": "code",
   "execution_count": 81,
   "metadata": {},
   "outputs": [
    {
     "data": {
      "text/plain": [
       "NomEmpreendimento                       object\n",
       "SigUFPrincipal                          object\n",
       "SigTipoGeracao                          object\n",
       "DscOrigemCombustivel                    object\n",
       "DscFonteCombustivel                     object\n",
       "NomFonteCombustivel                     object\n",
       "MdaPotenciaOutorgadaKw                 float64\n",
       "MdaPotenciaFiscalizadaKw               float64\n",
       "MdaGarantiaFisicaKw                    float64\n",
       "DscFaseUsina                            object\n",
       "DscSubBacia                             object\n",
       "DatEntradaOperacao              datetime64[ns]\n",
       "DatInicioVigencia               datetime64[ns]\n",
       "DatFimVigencia                  datetime64[ns]\n",
       "NumCoordNEmpreendimento                 object\n",
       "NumCoordEEmpreendimento                 object\n",
       "DscTipoOutorga                          object\n",
       "DscPropriRegimePariticipacao            object\n",
       "DscMuninicpios                          object\n",
       "IdeNucleoCEG                             int64\n",
       "CodCEG                                  object\n",
       "IdcGeracaoQualificada                   object\n",
       "DatGeracaoConjuntoDados                 object\n",
       "dtype: object"
      ]
     },
     "execution_count": 81,
     "metadata": {},
     "output_type": "execute_result"
    }
   ],
   "source": [
    "#verificando se as alterações deram certo\n",
    "df.dtypes"
   ]
  },
  {
   "cell_type": "markdown",
   "metadata": {},
   "source": [
    "**Considerar apenas os empreendimento em operação para ser mais coerente os cálculos**"
   ]
  },
  {
   "cell_type": "code",
   "execution_count": 82,
   "metadata": {},
   "outputs": [
    {
     "data": {
      "text/plain": [
       "array(['Operação', 'Construção não iniciada', 'Construção'], dtype=object)"
      ]
     },
     "execution_count": 82,
     "metadata": {},
     "output_type": "execute_result"
    }
   ],
   "source": [
    "df['DscFaseUsina'].unique()"
   ]
  },
  {
   "cell_type": "code",
   "execution_count": 83,
   "metadata": {},
   "outputs": [
    {
     "data": {
      "text/plain": [
       "Construção não iniciada    2436\n",
       "Construção                  342\n",
       "Name: DscFaseUsina, dtype: int64"
      ]
     },
     "execution_count": 83,
     "metadata": {},
     "output_type": "execute_result"
    }
   ],
   "source": [
    "df[df['DscFaseUsina'].str.lower() != 'operação']['DscFaseUsina'].value_counts()"
   ]
  },
  {
   "cell_type": "code",
   "execution_count": 84,
   "metadata": {},
   "outputs": [],
   "source": [
    "df = df[df['DscFaseUsina'].str.lower() == 'operação']"
   ]
  },
  {
   "cell_type": "code",
   "execution_count": 85,
   "metadata": {},
   "outputs": [
    {
     "data": {
      "text/html": [
       "<div>\n",
       "<style scoped>\n",
       "    .dataframe tbody tr th:only-of-type {\n",
       "        vertical-align: middle;\n",
       "    }\n",
       "\n",
       "    .dataframe tbody tr th {\n",
       "        vertical-align: top;\n",
       "    }\n",
       "\n",
       "    .dataframe thead th {\n",
       "        text-align: right;\n",
       "    }\n",
       "</style>\n",
       "<table border=\"1\" class=\"dataframe\">\n",
       "  <thead>\n",
       "    <tr style=\"text-align: right;\">\n",
       "      <th></th>\n",
       "      <th>NomEmpreendimento</th>\n",
       "      <th>SigUFPrincipal</th>\n",
       "      <th>SigTipoGeracao</th>\n",
       "      <th>DscOrigemCombustivel</th>\n",
       "      <th>DscFonteCombustivel</th>\n",
       "      <th>NomFonteCombustivel</th>\n",
       "      <th>MdaPotenciaOutorgadaKw</th>\n",
       "      <th>MdaPotenciaFiscalizadaKw</th>\n",
       "      <th>MdaGarantiaFisicaKw</th>\n",
       "      <th>DscFaseUsina</th>\n",
       "      <th>DscSubBacia</th>\n",
       "      <th>DatEntradaOperacao</th>\n",
       "      <th>DatInicioVigencia</th>\n",
       "      <th>DatFimVigencia</th>\n",
       "      <th>NumCoordNEmpreendimento</th>\n",
       "      <th>NumCoordEEmpreendimento</th>\n",
       "      <th>DscTipoOutorga</th>\n",
       "      <th>DscPropriRegimePariticipacao</th>\n",
       "      <th>DscMuninicpios</th>\n",
       "      <th>IdeNucleoCEG</th>\n",
       "      <th>CodCEG</th>\n",
       "      <th>IdcGeracaoQualificada</th>\n",
       "      <th>DatGeracaoConjuntoDados</th>\n",
       "    </tr>\n",
       "  </thead>\n",
       "  <tbody>\n",
       "    <tr>\n",
       "      <th>9662</th>\n",
       "      <td>Marciel de Castro Pereira</td>\n",
       "      <td>PA</td>\n",
       "      <td>UFV</td>\n",
       "      <td>Solar</td>\n",
       "      <td>Radiação solar</td>\n",
       "      <td>Radiação solar</td>\n",
       "      <td>1.00</td>\n",
       "      <td>1.00</td>\n",
       "      <td>0.00</td>\n",
       "      <td>Operação</td>\n",
       "      <td>NaN</td>\n",
       "      <td>2019-09-27</td>\n",
       "      <td>NaT</td>\n",
       "      <td>NaT</td>\n",
       "      <td>-3,89639600</td>\n",
       "      <td>-49,76355900</td>\n",
       "      <td>Registro</td>\n",
       "      <td>100% para EQUATORIAL PARÁ DISTRIBUIDORA DE ENE...</td>\n",
       "      <td>Tucuruí - PA</td>\n",
       "      <td>46033</td>\n",
       "      <td>UFV.RS.PA.046033-8.1</td>\n",
       "      <td>NaN</td>\n",
       "      <td>2023-03-17</td>\n",
       "    </tr>\n",
       "    <tr>\n",
       "      <th>12805</th>\n",
       "      <td>Maria Farias Maia</td>\n",
       "      <td>PA</td>\n",
       "      <td>UFV</td>\n",
       "      <td>Solar</td>\n",
       "      <td>Radiação solar</td>\n",
       "      <td>Radiação solar</td>\n",
       "      <td>1.00</td>\n",
       "      <td>1.00</td>\n",
       "      <td>0.00</td>\n",
       "      <td>Operação</td>\n",
       "      <td>NaN</td>\n",
       "      <td>2021-10-19</td>\n",
       "      <td>NaT</td>\n",
       "      <td>NaT</td>\n",
       "      <td>-1,82061083</td>\n",
       "      <td>-51,10613389</td>\n",
       "      <td>Registro</td>\n",
       "      <td>100% para EQUATORIAL PARÁ DISTRIBUIDORA DE ENE...</td>\n",
       "      <td>Portel - PA</td>\n",
       "      <td>57440</td>\n",
       "      <td>UFV.RS.PA.057440-6.1</td>\n",
       "      <td>NaN</td>\n",
       "      <td>2023-03-17</td>\n",
       "    </tr>\n",
       "    <tr>\n",
       "      <th>7648</th>\n",
       "      <td>Benedito Rodrigues Dos Santos</td>\n",
       "      <td>PA</td>\n",
       "      <td>UFV</td>\n",
       "      <td>Solar</td>\n",
       "      <td>Radiação solar</td>\n",
       "      <td>Radiação solar</td>\n",
       "      <td>1.00</td>\n",
       "      <td>1.00</td>\n",
       "      <td>0.00</td>\n",
       "      <td>Operação</td>\n",
       "      <td>NaN</td>\n",
       "      <td>2018-02-02</td>\n",
       "      <td>NaT</td>\n",
       "      <td>NaT</td>\n",
       "      <td>-2,15919000</td>\n",
       "      <td>-52,78393000</td>\n",
       "      <td>Registro</td>\n",
       "      <td>100% para EQUATORIAL PARÁ DISTRIBUIDORA DE ENE...</td>\n",
       "      <td>Porto de Moz - PA</td>\n",
       "      <td>40059</td>\n",
       "      <td>UFV.RS.PA.040059-9.1</td>\n",
       "      <td>NaN</td>\n",
       "      <td>2023-03-17</td>\n",
       "    </tr>\n",
       "    <tr>\n",
       "      <th>14353</th>\n",
       "      <td>Sandro Rocha Farias Junior</td>\n",
       "      <td>PA</td>\n",
       "      <td>UFV</td>\n",
       "      <td>Solar</td>\n",
       "      <td>Radiação solar</td>\n",
       "      <td>Radiação solar</td>\n",
       "      <td>1.00</td>\n",
       "      <td>1.00</td>\n",
       "      <td>0.00</td>\n",
       "      <td>Operação</td>\n",
       "      <td>NaN</td>\n",
       "      <td>2021-11-19</td>\n",
       "      <td>NaT</td>\n",
       "      <td>NaT</td>\n",
       "      <td>-2,33472400</td>\n",
       "      <td>-50,94887300</td>\n",
       "      <td>Registro</td>\n",
       "      <td>100% para EQUATORIAL PARÁ DISTRIBUIDORA DE ENE...</td>\n",
       "      <td>Portel - PA</td>\n",
       "      <td>59288</td>\n",
       "      <td>UFV.RS.PA.059288-9.1</td>\n",
       "      <td>NaN</td>\n",
       "      <td>2023-03-17</td>\n",
       "    </tr>\n",
       "    <tr>\n",
       "      <th>13195</th>\n",
       "      <td>Orimar Pinheiro de Miranda Cruz</td>\n",
       "      <td>PA</td>\n",
       "      <td>UFV</td>\n",
       "      <td>Solar</td>\n",
       "      <td>Radiação solar</td>\n",
       "      <td>Radiação solar</td>\n",
       "      <td>1.00</td>\n",
       "      <td>1.00</td>\n",
       "      <td>0.00</td>\n",
       "      <td>Operação</td>\n",
       "      <td>NaN</td>\n",
       "      <td>2021-10-29</td>\n",
       "      <td>NaT</td>\n",
       "      <td>NaT</td>\n",
       "      <td>-2,10581833</td>\n",
       "      <td>-50,99794889</td>\n",
       "      <td>Registro</td>\n",
       "      <td>100% para EQUATORIAL PARÁ DISTRIBUIDORA DE ENE...</td>\n",
       "      <td>Portel - PA</td>\n",
       "      <td>57830</td>\n",
       "      <td>UFV.RS.PA.057830-4.1</td>\n",
       "      <td>NaN</td>\n",
       "      <td>2023-03-17</td>\n",
       "    </tr>\n",
       "    <tr>\n",
       "      <th>23473</th>\n",
       "      <td>10658</td>\n",
       "      <td>MS</td>\n",
       "      <td>UFV</td>\n",
       "      <td>Solar</td>\n",
       "      <td>Radiação solar</td>\n",
       "      <td>Radiação solar</td>\n",
       "      <td>1.38</td>\n",
       "      <td>1.00</td>\n",
       "      <td>0.00</td>\n",
       "      <td>Operação</td>\n",
       "      <td>NaN</td>\n",
       "      <td>2022-10-07</td>\n",
       "      <td>NaT</td>\n",
       "      <td>NaT</td>\n",
       "      <td>-19,44046000</td>\n",
       "      <td>-56,51984000</td>\n",
       "      <td>Registro</td>\n",
       "      <td>100% para ENERGISA MATO GROSSO DO SUL - DISTRI...</td>\n",
       "      <td>Corumbá - MS</td>\n",
       "      <td>70642</td>\n",
       "      <td>UFV.RS.MS.070642-6.1</td>\n",
       "      <td>NaN</td>\n",
       "      <td>2023-03-17</td>\n",
       "    </tr>\n",
       "  </tbody>\n",
       "</table>\n",
       "</div>"
      ],
      "text/plain": [
       "                     NomEmpreendimento SigUFPrincipal SigTipoGeracao  \\\n",
       "9662         Marciel de Castro Pereira             PA            UFV   \n",
       "12805                Maria Farias Maia             PA            UFV   \n",
       "7648     Benedito Rodrigues Dos Santos             PA            UFV   \n",
       "14353       Sandro Rocha Farias Junior             PA            UFV   \n",
       "13195  Orimar Pinheiro de Miranda Cruz             PA            UFV   \n",
       "23473                            10658             MS            UFV   \n",
       "\n",
       "      DscOrigemCombustivel DscFonteCombustivel NomFonteCombustivel  \\\n",
       "9662                 Solar      Radiação solar      Radiação solar   \n",
       "12805                Solar      Radiação solar      Radiação solar   \n",
       "7648                 Solar      Radiação solar      Radiação solar   \n",
       "14353                Solar      Radiação solar      Radiação solar   \n",
       "13195                Solar      Radiação solar      Radiação solar   \n",
       "23473                Solar      Radiação solar      Radiação solar   \n",
       "\n",
       "       MdaPotenciaOutorgadaKw  MdaPotenciaFiscalizadaKw  MdaGarantiaFisicaKw  \\\n",
       "9662                     1.00                      1.00                 0.00   \n",
       "12805                    1.00                      1.00                 0.00   \n",
       "7648                     1.00                      1.00                 0.00   \n",
       "14353                    1.00                      1.00                 0.00   \n",
       "13195                    1.00                      1.00                 0.00   \n",
       "23473                    1.38                      1.00                 0.00   \n",
       "\n",
       "      DscFaseUsina DscSubBacia DatEntradaOperacao DatInicioVigencia  \\\n",
       "9662      Operação         NaN         2019-09-27               NaT   \n",
       "12805     Operação         NaN         2021-10-19               NaT   \n",
       "7648      Operação         NaN         2018-02-02               NaT   \n",
       "14353     Operação         NaN         2021-11-19               NaT   \n",
       "13195     Operação         NaN         2021-10-29               NaT   \n",
       "23473     Operação         NaN         2022-10-07               NaT   \n",
       "\n",
       "      DatFimVigencia NumCoordNEmpreendimento NumCoordEEmpreendimento  \\\n",
       "9662             NaT             -3,89639600            -49,76355900   \n",
       "12805            NaT             -1,82061083            -51,10613389   \n",
       "7648             NaT             -2,15919000            -52,78393000   \n",
       "14353            NaT             -2,33472400            -50,94887300   \n",
       "13195            NaT             -2,10581833            -50,99794889   \n",
       "23473            NaT            -19,44046000            -56,51984000   \n",
       "\n",
       "      DscTipoOutorga                       DscPropriRegimePariticipacao  \\\n",
       "9662        Registro  100% para EQUATORIAL PARÁ DISTRIBUIDORA DE ENE...   \n",
       "12805       Registro  100% para EQUATORIAL PARÁ DISTRIBUIDORA DE ENE...   \n",
       "7648        Registro  100% para EQUATORIAL PARÁ DISTRIBUIDORA DE ENE...   \n",
       "14353       Registro  100% para EQUATORIAL PARÁ DISTRIBUIDORA DE ENE...   \n",
       "13195       Registro  100% para EQUATORIAL PARÁ DISTRIBUIDORA DE ENE...   \n",
       "23473       Registro  100% para ENERGISA MATO GROSSO DO SUL - DISTRI...   \n",
       "\n",
       "          DscMuninicpios  IdeNucleoCEG                CodCEG  \\\n",
       "9662        Tucuruí - PA         46033  UFV.RS.PA.046033-8.1   \n",
       "12805        Portel - PA         57440  UFV.RS.PA.057440-6.1   \n",
       "7648   Porto de Moz - PA         40059  UFV.RS.PA.040059-9.1   \n",
       "14353        Portel - PA         59288  UFV.RS.PA.059288-9.1   \n",
       "13195        Portel - PA         57830  UFV.RS.PA.057830-4.1   \n",
       "23473       Corumbá - MS         70642  UFV.RS.MS.070642-6.1   \n",
       "\n",
       "      IdcGeracaoQualificada DatGeracaoConjuntoDados  \n",
       "9662                    NaN              2023-03-17  \n",
       "12805                   NaN              2023-03-17  \n",
       "7648                    NaN              2023-03-17  \n",
       "14353                   NaN              2023-03-17  \n",
       "13195                   NaN              2023-03-17  \n",
       "23473                   NaN              2023-03-17  "
      ]
     },
     "execution_count": 85,
     "metadata": {},
     "output_type": "execute_result"
    }
   ],
   "source": [
    "df.sample(6)"
   ]
  },
  {
   "cell_type": "code",
   "execution_count": 86,
   "metadata": {},
   "outputs": [
    {
     "data": {
      "text/plain": [
       "(21822, 23)"
      ]
     },
     "execution_count": 86,
     "metadata": {},
     "output_type": "execute_result"
    }
   ],
   "source": [
    "df.shape"
   ]
  },
  {
   "cell_type": "markdown",
   "metadata": {
    "id": "pg27FUdh3bPY"
   },
   "source": [
    "### Dados Nulos"
   ]
  },
  {
   "cell_type": "markdown",
   "metadata": {},
   "source": [
    "Dados nulos podem interferir no resultado e por isso devem ser manipulados. "
   ]
  },
  {
   "cell_type": "code",
   "execution_count": 87,
   "metadata": {
    "colab": {
     "base_uri": "https://localhost:8080/"
    },
    "executionInfo": {
     "elapsed": 35,
     "status": "ok",
     "timestamp": 1679866601509,
     "user": {
      "displayName": "Liliane Paulino f. do Nascimento",
      "userId": "10025885037972274022"
     },
     "user_tz": 180
    },
    "id": "T3wJ85nmIKNk",
    "outputId": "c8ee2142-9e9f-4acb-eb69-8a4e372bdab2"
   },
   "outputs": [
    {
     "name": "stdout",
     "output_type": "stream",
     "text": [
      "Quantidade de dados nulos:  75140\n"
     ]
    }
   ],
   "source": [
    "print('Quantidade de dados nulos: ', df.isna().sum().sum())"
   ]
  },
  {
   "cell_type": "code",
   "execution_count": 88,
   "metadata": {
    "colab": {
     "base_uri": "https://localhost:8080/"
    },
    "executionInfo": {
     "elapsed": 31,
     "status": "ok",
     "timestamp": 1679866601509,
     "user": {
      "displayName": "Liliane Paulino f. do Nascimento",
      "userId": "10025885037972274022"
     },
     "user_tz": 180
    },
    "id": "WmDui3Puwo6Z",
    "outputId": "0ec79197-923b-4b49-92dc-8b1ff3cdb1e4"
   },
   "outputs": [
    {
     "data": {
      "text/plain": [
       "NomEmpreendimento                   0\n",
       "SigUFPrincipal                      0\n",
       "SigTipoGeracao                      0\n",
       "DscOrigemCombustivel                0\n",
       "DscFonteCombustivel                 0\n",
       "NomFonteCombustivel                 0\n",
       "MdaPotenciaOutorgadaKw              0\n",
       "MdaPotenciaFiscalizadaKw            0\n",
       "MdaGarantiaFisicaKw                 0\n",
       "DscFaseUsina                        0\n",
       "DscSubBacia                     20461\n",
       "DatEntradaOperacao                  0\n",
       "DatInicioVigencia               19317\n",
       "DatFimVigencia                  19326\n",
       "NumCoordNEmpreendimento             0\n",
       "NumCoordEEmpreendimento             0\n",
       "DscTipoOutorga                      0\n",
       "DscPropriRegimePariticipacao        0\n",
       "DscMuninicpios                      0\n",
       "IdeNucleoCEG                        0\n",
       "CodCEG                              0\n",
       "IdcGeracaoQualificada           16036\n",
       "DatGeracaoConjuntoDados             0\n",
       "dtype: int64"
      ]
     },
     "execution_count": 88,
     "metadata": {},
     "output_type": "execute_result"
    }
   ],
   "source": [
    "#isnull() e isna() são equivalentes, ambas retornam boleanos para valores nulos (NaN - not a number) \n",
    "#sum() contabiliza os nulos\n",
    "df.isnull().sum()"
   ]
  },
  {
   "cell_type": "code",
   "execution_count": 89,
   "metadata": {
    "colab": {
     "base_uri": "https://localhost:8080/"
    },
    "executionInfo": {
     "elapsed": 29,
     "status": "ok",
     "timestamp": 1679866601510,
     "user": {
      "displayName": "Liliane Paulino f. do Nascimento",
      "userId": "10025885037972274022"
     },
     "user_tz": 180
    },
    "id": "qC1Y3J3LtnUV",
    "outputId": "042f2ae9-9bc1-4811-e85b-36ab79fe1935"
   },
   "outputs": [
    {
     "data": {
      "text/plain": [
       "array(['Não', 'Sim', nan], dtype=object)"
      ]
     },
     "execution_count": 89,
     "metadata": {},
     "output_type": "execute_result"
    }
   ],
   "source": [
    "df['IdcGeracaoQualificada'].unique()"
   ]
  },
  {
   "cell_type": "code",
   "execution_count": 90,
   "metadata": {
    "colab": {
     "base_uri": "https://localhost:8080/"
    },
    "executionInfo": {
     "elapsed": 26,
     "status": "ok",
     "timestamp": 1679866601510,
     "user": {
      "displayName": "Liliane Paulino f. do Nascimento",
      "userId": "10025885037972274022"
     },
     "user_tz": 180
    },
    "id": "BFwKWkxW6Pkk",
    "outputId": "7332c4c3-bf89-4b7b-bb1d-7ae82c0dd1a1"
   },
   "outputs": [
    {
     "data": {
      "text/plain": [
       "array(['2000-07-07T00:00:00.000000000', '2000-08-31T00:00:00.000000000',\n",
       "       '2001-03-15T00:00:00.000000000', ...,\n",
       "       '2021-11-09T00:00:00.000000000', '2021-11-25T00:00:00.000000000',\n",
       "       '2022-03-21T00:00:00.000000000'], dtype='datetime64[ns]')"
      ]
     },
     "execution_count": 90,
     "metadata": {},
     "output_type": "execute_result"
    }
   ],
   "source": [
    "df['DatInicioVigencia'].unique()"
   ]
  },
  {
   "cell_type": "markdown",
   "metadata": {},
   "source": [
    "Para realizar a manupulação dos dados nulos optou-se por substituir por um valor conhecido de mesmo tipo. Se optasse por excluir as linhas, a maioria seria eliminada e impactaria muito no resultado."
   ]
  },
  {
   "cell_type": "code",
   "execution_count": 91,
   "metadata": {
    "executionInfo": {
     "elapsed": 25,
     "status": "ok",
     "timestamp": 1679866601511,
     "user": {
      "displayName": "Liliane Paulino f. do Nascimento",
      "userId": "10025885037972274022"
     },
     "user_tz": 180
    },
    "id": "Nis5PqJAKDEN"
   },
   "outputs": [],
   "source": [
    "#usando metodo loc para subistituir NaN por valores padrões; Foi escolhido valores similiares ao tipo de dados.\n",
    "df.loc[df['IdcGeracaoQualificada'].isnull(),'IdcGeracaoQualificada']= 'Other'\n",
    "df.loc[df['DatInicioVigencia'].isnull(),'DatInicioVigencia']= '2023-01-01'\n",
    "df.loc[df['DatFimVigencia'].isnull(),'DatFimVigencia']= '2023-01-01'\n",
    "df.loc[df['DscSubBacia'].isnull(),'DscSubBacia']= '00 - sem identificacao'"
   ]
  },
  {
   "cell_type": "code",
   "execution_count": 92,
   "metadata": {
    "colab": {
     "base_uri": "https://localhost:8080/",
     "height": 260
    },
    "executionInfo": {
     "elapsed": 24,
     "status": "ok",
     "timestamp": 1679866601511,
     "user": {
      "displayName": "Liliane Paulino f. do Nascimento",
      "userId": "10025885037972274022"
     },
     "user_tz": 180
    },
    "id": "gpjw-lE2L8OE",
    "outputId": "4ffb7fc5-e9e8-4069-c9e0-e2fc1284bf64"
   },
   "outputs": [
    {
     "data": {
      "text/html": [
       "<div>\n",
       "<style scoped>\n",
       "    .dataframe tbody tr th:only-of-type {\n",
       "        vertical-align: middle;\n",
       "    }\n",
       "\n",
       "    .dataframe tbody tr th {\n",
       "        vertical-align: top;\n",
       "    }\n",
       "\n",
       "    .dataframe thead th {\n",
       "        text-align: right;\n",
       "    }\n",
       "</style>\n",
       "<table border=\"1\" class=\"dataframe\">\n",
       "  <thead>\n",
       "    <tr style=\"text-align: right;\">\n",
       "      <th></th>\n",
       "      <th>NomEmpreendimento</th>\n",
       "      <th>SigUFPrincipal</th>\n",
       "      <th>SigTipoGeracao</th>\n",
       "      <th>DscOrigemCombustivel</th>\n",
       "      <th>DscFonteCombustivel</th>\n",
       "      <th>NomFonteCombustivel</th>\n",
       "      <th>MdaPotenciaOutorgadaKw</th>\n",
       "      <th>MdaPotenciaFiscalizadaKw</th>\n",
       "      <th>MdaGarantiaFisicaKw</th>\n",
       "      <th>DscFaseUsina</th>\n",
       "      <th>DscSubBacia</th>\n",
       "      <th>DatEntradaOperacao</th>\n",
       "      <th>DatInicioVigencia</th>\n",
       "      <th>DatFimVigencia</th>\n",
       "      <th>NumCoordNEmpreendimento</th>\n",
       "      <th>NumCoordEEmpreendimento</th>\n",
       "      <th>DscTipoOutorga</th>\n",
       "      <th>DscPropriRegimePariticipacao</th>\n",
       "      <th>DscMuninicpios</th>\n",
       "      <th>IdeNucleoCEG</th>\n",
       "      <th>CodCEG</th>\n",
       "      <th>IdcGeracaoQualificada</th>\n",
       "      <th>DatGeracaoConjuntoDados</th>\n",
       "    </tr>\n",
       "  </thead>\n",
       "  <tbody>\n",
       "    <tr>\n",
       "      <th>23781</th>\n",
       "      <td>Maria de Nazare Viana de Lima</td>\n",
       "      <td>PA</td>\n",
       "      <td>UFV</td>\n",
       "      <td>Solar</td>\n",
       "      <td>Radiação solar</td>\n",
       "      <td>Radiação solar</td>\n",
       "      <td>1.00</td>\n",
       "      <td>1.00</td>\n",
       "      <td>0.00</td>\n",
       "      <td>Operação</td>\n",
       "      <td>00 - sem identificacao</td>\n",
       "      <td>2022-09-22</td>\n",
       "      <td>2023-01-01</td>\n",
       "      <td>2023-01-01</td>\n",
       "      <td>-1,95569400</td>\n",
       "      <td>-51,13865600</td>\n",
       "      <td>Registro</td>\n",
       "      <td>100% para EQUATORIAL PARÁ DISTRIBUIDORA DE ENE...</td>\n",
       "      <td>Portel - PA</td>\n",
       "      <td>70950</td>\n",
       "      <td>UFV.RS.PA.070950-6.1</td>\n",
       "      <td>Other</td>\n",
       "      <td>2023-03-17</td>\n",
       "    </tr>\n",
       "    <tr>\n",
       "      <th>17357</th>\n",
       "      <td>Leniete Rodrigues Braga</td>\n",
       "      <td>PA</td>\n",
       "      <td>UFV</td>\n",
       "      <td>Solar</td>\n",
       "      <td>Radiação solar</td>\n",
       "      <td>Radiação solar</td>\n",
       "      <td>1.00</td>\n",
       "      <td>1.00</td>\n",
       "      <td>0.00</td>\n",
       "      <td>Operação</td>\n",
       "      <td>00 - sem identificacao</td>\n",
       "      <td>2022-02-26</td>\n",
       "      <td>2023-01-01</td>\n",
       "      <td>2023-01-01</td>\n",
       "      <td>-2,20005400</td>\n",
       "      <td>-50,80298600</td>\n",
       "      <td>Registro</td>\n",
       "      <td>100% para EQUATORIAL PARÁ DISTRIBUIDORA DE ENE...</td>\n",
       "      <td>Portel - PA</td>\n",
       "      <td>62765</td>\n",
       "      <td>UFV.RS.PA.062765-8.1</td>\n",
       "      <td>Other</td>\n",
       "      <td>2023-03-17</td>\n",
       "    </tr>\n",
       "    <tr>\n",
       "      <th>13013</th>\n",
       "      <td>Olivaldo Gomes da Costa</td>\n",
       "      <td>PA</td>\n",
       "      <td>UFV</td>\n",
       "      <td>Solar</td>\n",
       "      <td>Radiação solar</td>\n",
       "      <td>Radiação solar</td>\n",
       "      <td>1.00</td>\n",
       "      <td>1.00</td>\n",
       "      <td>0.00</td>\n",
       "      <td>Operação</td>\n",
       "      <td>00 - sem identificacao</td>\n",
       "      <td>2021-10-27</td>\n",
       "      <td>2023-01-01</td>\n",
       "      <td>2023-01-01</td>\n",
       "      <td>-2,08014528</td>\n",
       "      <td>-50,98939694</td>\n",
       "      <td>Registro</td>\n",
       "      <td>100% para EQUATORIAL PARÁ DISTRIBUIDORA DE ENE...</td>\n",
       "      <td>Portel - PA</td>\n",
       "      <td>57648</td>\n",
       "      <td>UFV.RS.PA.057648-4.1</td>\n",
       "      <td>Other</td>\n",
       "      <td>2023-03-17</td>\n",
       "    </tr>\n",
       "    <tr>\n",
       "      <th>7089</th>\n",
       "      <td>Rosiane Barbosa Duarte</td>\n",
       "      <td>PA</td>\n",
       "      <td>UFV</td>\n",
       "      <td>Solar</td>\n",
       "      <td>Radiação solar</td>\n",
       "      <td>Radiação solar</td>\n",
       "      <td>1.00</td>\n",
       "      <td>1.00</td>\n",
       "      <td>0.00</td>\n",
       "      <td>Operação</td>\n",
       "      <td>00 - sem identificacao</td>\n",
       "      <td>2018-03-05</td>\n",
       "      <td>2023-01-01</td>\n",
       "      <td>2023-01-01</td>\n",
       "      <td>-2,06200000</td>\n",
       "      <td>-52,30214000</td>\n",
       "      <td>Registro</td>\n",
       "      <td>100% para EQUATORIAL PARÁ DISTRIBUIDORA DE ENE...</td>\n",
       "      <td>Porto de Moz - PA</td>\n",
       "      <td>39500</td>\n",
       "      <td>UFV.RS.PA.039500-5.1</td>\n",
       "      <td>Other</td>\n",
       "      <td>2023-03-17</td>\n",
       "    </tr>\n",
       "    <tr>\n",
       "      <th>2714</th>\n",
       "      <td>DPR Indústria</td>\n",
       "      <td>SC</td>\n",
       "      <td>UTE</td>\n",
       "      <td>Fóssil</td>\n",
       "      <td>Petróleo</td>\n",
       "      <td>Óleo Diesel</td>\n",
       "      <td>265.00</td>\n",
       "      <td>265.00</td>\n",
       "      <td>0.00</td>\n",
       "      <td>Operação</td>\n",
       "      <td>00 - sem identificacao</td>\n",
       "      <td>2012-01-28</td>\n",
       "      <td>2023-01-01</td>\n",
       "      <td>2023-01-01</td>\n",
       "      <td>-27,24138876</td>\n",
       "      <td>-48,63361102</td>\n",
       "      <td>Registro</td>\n",
       "      <td>100% para DPR Indústria Ltda-ME (REG)</td>\n",
       "      <td>Tijucas - SC</td>\n",
       "      <td>30737</td>\n",
       "      <td>UTE.PE.SC.030737-8.1</td>\n",
       "      <td>Não</td>\n",
       "      <td>2023-03-17</td>\n",
       "    </tr>\n",
       "    <tr>\n",
       "      <th>4106</th>\n",
       "      <td>Adição Distribuição Express - L07</td>\n",
       "      <td>MG</td>\n",
       "      <td>UTE</td>\n",
       "      <td>Fóssil</td>\n",
       "      <td>Petróleo</td>\n",
       "      <td>Óleo Diesel</td>\n",
       "      <td>576.00</td>\n",
       "      <td>576.00</td>\n",
       "      <td>0.00</td>\n",
       "      <td>Operação</td>\n",
       "      <td>00 - sem identificacao</td>\n",
       "      <td>2009-12-01</td>\n",
       "      <td>2023-01-01</td>\n",
       "      <td>2023-01-01</td>\n",
       "      <td>-20,14327778</td>\n",
       "      <td>-44,89972222</td>\n",
       "      <td>Registro</td>\n",
       "      <td>100% para Adição Distribuição Express Ltda. (REG)</td>\n",
       "      <td>Divinópolis - MG</td>\n",
       "      <td>33095</td>\n",
       "      <td>UTE.PE.MG.033095-7.1</td>\n",
       "      <td>Não</td>\n",
       "      <td>2023-03-17</td>\n",
       "    </tr>\n",
       "    <tr>\n",
       "      <th>1594</th>\n",
       "      <td>Rio Funchal</td>\n",
       "      <td>MG</td>\n",
       "      <td>CGH</td>\n",
       "      <td>Hídrica</td>\n",
       "      <td>Potencial hidráulico</td>\n",
       "      <td>Potencial hidráulico</td>\n",
       "      <td>1,000.00</td>\n",
       "      <td>1,000.00</td>\n",
       "      <td>0.00</td>\n",
       "      <td>Operação</td>\n",
       "      <td>40 - Alto Sao Francisco, ate Tres Marias</td>\n",
       "      <td>1900-01-03</td>\n",
       "      <td>2023-01-01</td>\n",
       "      <td>2023-01-01</td>\n",
       "      <td>-19,41805556</td>\n",
       "      <td>-45,99166667</td>\n",
       "      <td>Registro</td>\n",
       "      <td>100% para Construtora Sklar Empreendimentos Ge...</td>\n",
       "      <td>São Gotardo - MG</td>\n",
       "      <td>29389</td>\n",
       "      <td>CGH.PH.MG.029389-0.1</td>\n",
       "      <td>Não</td>\n",
       "      <td>2023-03-17</td>\n",
       "    </tr>\n",
       "    <tr>\n",
       "      <th>13674</th>\n",
       "      <td>Graciney Costa da Silva</td>\n",
       "      <td>PA</td>\n",
       "      <td>UFV</td>\n",
       "      <td>Solar</td>\n",
       "      <td>Radiação solar</td>\n",
       "      <td>Radiação solar</td>\n",
       "      <td>1.00</td>\n",
       "      <td>1.00</td>\n",
       "      <td>0.00</td>\n",
       "      <td>Operação</td>\n",
       "      <td>00 - sem identificacao</td>\n",
       "      <td>2021-12-15</td>\n",
       "      <td>2023-01-01</td>\n",
       "      <td>2023-01-01</td>\n",
       "      <td>-2,60644500</td>\n",
       "      <td>-50,71495600</td>\n",
       "      <td>Registro</td>\n",
       "      <td>100% para EQUATORIAL PARÁ DISTRIBUIDORA DE ENE...</td>\n",
       "      <td>Portel - PA</td>\n",
       "      <td>58601</td>\n",
       "      <td>UFV.RS.PA.058601-3.1</td>\n",
       "      <td>Other</td>\n",
       "      <td>2023-03-17</td>\n",
       "    </tr>\n",
       "  </tbody>\n",
       "</table>\n",
       "</div>"
      ],
      "text/plain": [
       "                       NomEmpreendimento SigUFPrincipal SigTipoGeracao  \\\n",
       "23781      Maria de Nazare Viana de Lima             PA            UFV   \n",
       "17357            Leniete Rodrigues Braga             PA            UFV   \n",
       "13013            Olivaldo Gomes da Costa             PA            UFV   \n",
       "7089              Rosiane Barbosa Duarte             PA            UFV   \n",
       "2714                       DPR Indústria             SC            UTE   \n",
       "4106   Adição Distribuição Express - L07             MG            UTE   \n",
       "1594                         Rio Funchal             MG            CGH   \n",
       "13674            Graciney Costa da Silva             PA            UFV   \n",
       "\n",
       "      DscOrigemCombustivel   DscFonteCombustivel   NomFonteCombustivel  \\\n",
       "23781                Solar        Radiação solar        Radiação solar   \n",
       "17357                Solar        Radiação solar        Radiação solar   \n",
       "13013                Solar        Radiação solar        Radiação solar   \n",
       "7089                 Solar        Radiação solar        Radiação solar   \n",
       "2714                Fóssil              Petróleo           Óleo Diesel   \n",
       "4106                Fóssil              Petróleo           Óleo Diesel   \n",
       "1594               Hídrica  Potencial hidráulico  Potencial hidráulico   \n",
       "13674                Solar        Radiação solar        Radiação solar   \n",
       "\n",
       "       MdaPotenciaOutorgadaKw  MdaPotenciaFiscalizadaKw  MdaGarantiaFisicaKw  \\\n",
       "23781                    1.00                      1.00                 0.00   \n",
       "17357                    1.00                      1.00                 0.00   \n",
       "13013                    1.00                      1.00                 0.00   \n",
       "7089                     1.00                      1.00                 0.00   \n",
       "2714                   265.00                    265.00                 0.00   \n",
       "4106                   576.00                    576.00                 0.00   \n",
       "1594                 1,000.00                  1,000.00                 0.00   \n",
       "13674                    1.00                      1.00                 0.00   \n",
       "\n",
       "      DscFaseUsina                                DscSubBacia  \\\n",
       "23781     Operação                     00 - sem identificacao   \n",
       "17357     Operação                     00 - sem identificacao   \n",
       "13013     Operação                     00 - sem identificacao   \n",
       "7089      Operação                     00 - sem identificacao   \n",
       "2714      Operação                     00 - sem identificacao   \n",
       "4106      Operação                     00 - sem identificacao   \n",
       "1594      Operação   40 - Alto Sao Francisco, ate Tres Marias   \n",
       "13674     Operação                     00 - sem identificacao   \n",
       "\n",
       "      DatEntradaOperacao DatInicioVigencia DatFimVigencia  \\\n",
       "23781         2022-09-22        2023-01-01     2023-01-01   \n",
       "17357         2022-02-26        2023-01-01     2023-01-01   \n",
       "13013         2021-10-27        2023-01-01     2023-01-01   \n",
       "7089          2018-03-05        2023-01-01     2023-01-01   \n",
       "2714          2012-01-28        2023-01-01     2023-01-01   \n",
       "4106          2009-12-01        2023-01-01     2023-01-01   \n",
       "1594          1900-01-03        2023-01-01     2023-01-01   \n",
       "13674         2021-12-15        2023-01-01     2023-01-01   \n",
       "\n",
       "      NumCoordNEmpreendimento NumCoordEEmpreendimento DscTipoOutorga  \\\n",
       "23781             -1,95569400            -51,13865600       Registro   \n",
       "17357             -2,20005400            -50,80298600       Registro   \n",
       "13013             -2,08014528            -50,98939694       Registro   \n",
       "7089              -2,06200000            -52,30214000       Registro   \n",
       "2714             -27,24138876            -48,63361102       Registro   \n",
       "4106             -20,14327778            -44,89972222       Registro   \n",
       "1594             -19,41805556            -45,99166667       Registro   \n",
       "13674             -2,60644500            -50,71495600       Registro   \n",
       "\n",
       "                            DscPropriRegimePariticipacao     DscMuninicpios  \\\n",
       "23781  100% para EQUATORIAL PARÁ DISTRIBUIDORA DE ENE...        Portel - PA   \n",
       "17357  100% para EQUATORIAL PARÁ DISTRIBUIDORA DE ENE...        Portel - PA   \n",
       "13013  100% para EQUATORIAL PARÁ DISTRIBUIDORA DE ENE...        Portel - PA   \n",
       "7089   100% para EQUATORIAL PARÁ DISTRIBUIDORA DE ENE...  Porto de Moz - PA   \n",
       "2714               100% para DPR Indústria Ltda-ME (REG)       Tijucas - SC   \n",
       "4106   100% para Adição Distribuição Express Ltda. (REG)   Divinópolis - MG   \n",
       "1594   100% para Construtora Sklar Empreendimentos Ge...   São Gotardo - MG   \n",
       "13674  100% para EQUATORIAL PARÁ DISTRIBUIDORA DE ENE...        Portel - PA   \n",
       "\n",
       "       IdeNucleoCEG                CodCEG IdcGeracaoQualificada  \\\n",
       "23781         70950  UFV.RS.PA.070950-6.1                 Other   \n",
       "17357         62765  UFV.RS.PA.062765-8.1                 Other   \n",
       "13013         57648  UFV.RS.PA.057648-4.1                 Other   \n",
       "7089          39500  UFV.RS.PA.039500-5.1                 Other   \n",
       "2714          30737  UTE.PE.SC.030737-8.1                   Não   \n",
       "4106          33095  UTE.PE.MG.033095-7.1                   Não   \n",
       "1594          29389  CGH.PH.MG.029389-0.1                   Não   \n",
       "13674         58601  UFV.RS.PA.058601-3.1                 Other   \n",
       "\n",
       "      DatGeracaoConjuntoDados  \n",
       "23781              2023-03-17  \n",
       "17357              2023-03-17  \n",
       "13013              2023-03-17  \n",
       "7089               2023-03-17  \n",
       "2714               2023-03-17  \n",
       "4106               2023-03-17  \n",
       "1594               2023-03-17  \n",
       "13674              2023-03-17  "
      ]
     },
     "execution_count": 92,
     "metadata": {},
     "output_type": "execute_result"
    }
   ],
   "source": [
    "#pode-se ver que foi substituido os NaN por valores padrões\n",
    "df.sample(8)"
   ]
  },
  {
   "cell_type": "code",
   "execution_count": 93,
   "metadata": {
    "colab": {
     "base_uri": "https://localhost:8080/"
    },
    "executionInfo": {
     "elapsed": 24,
     "status": "ok",
     "timestamp": 1679866601512,
     "user": {
      "displayName": "Liliane Paulino f. do Nascimento",
      "userId": "10025885037972274022"
     },
     "user_tz": 180
    },
    "id": "IiAmOypfMv6D",
    "outputId": "78a32c32-c677-4d39-ee29-427b6b402baf"
   },
   "outputs": [
    {
     "data": {
      "text/plain": [
       "NomEmpreendimento               0\n",
       "SigUFPrincipal                  0\n",
       "SigTipoGeracao                  0\n",
       "DscOrigemCombustivel            0\n",
       "DscFonteCombustivel             0\n",
       "NomFonteCombustivel             0\n",
       "MdaPotenciaOutorgadaKw          0\n",
       "MdaPotenciaFiscalizadaKw        0\n",
       "MdaGarantiaFisicaKw             0\n",
       "DscFaseUsina                    0\n",
       "DscSubBacia                     0\n",
       "DatEntradaOperacao              0\n",
       "DatInicioVigencia               0\n",
       "DatFimVigencia                  0\n",
       "NumCoordNEmpreendimento         0\n",
       "NumCoordEEmpreendimento         0\n",
       "DscTipoOutorga                  0\n",
       "DscPropriRegimePariticipacao    0\n",
       "DscMuninicpios                  0\n",
       "IdeNucleoCEG                    0\n",
       "CodCEG                          0\n",
       "IdcGeracaoQualificada           0\n",
       "DatGeracaoConjuntoDados         0\n",
       "dtype: int64"
      ]
     },
     "execution_count": 93,
     "metadata": {},
     "output_type": "execute_result"
    }
   ],
   "source": [
    "#verificando se deu certo a substituição dos dados nulos\n",
    "df.isnull().sum()"
   ]
  },
  {
   "cell_type": "markdown",
   "metadata": {},
   "source": [
    "Verificando os valores outliers. Nesse caso é a usina de Belo Monte que tem uma potência física garantida muito superior a qualquer outra usina. Nesse caso não pode excluir ou manipular esse outlier por ser um valor real e importante."
   ]
  },
  {
   "cell_type": "code",
   "execution_count": 94,
   "metadata": {
    "colab": {
     "base_uri": "https://localhost:8080/",
     "height": 282
    },
    "executionInfo": {
     "elapsed": 286,
     "status": "ok",
     "timestamp": 1679869775199,
     "user": {
      "displayName": "Liliane Paulino f. do Nascimento",
      "userId": "10025885037972274022"
     },
     "user_tz": 180
    },
    "id": "Vw01nbLW_99C",
    "outputId": "8156483f-7f6b-4108-881f-b9429ae777fa"
   },
   "outputs": [
    {
     "data": {
      "image/png": "[encoded data removed]",
      "text/plain": [
       "<Figure size 700x400 with 1 Axes>"
      ]
     },
     "metadata": {},
     "output_type": "display_data"
    }
   ],
   "source": [
    "#outlier\n",
    "ax = df.boxplot(column=['MdaPotenciaOutorgadaKw','MdaPotenciaFiscalizadaKw','MdaGarantiaFisicaKw'])\n",
    "ax.set_ylim(1, 13000000)\n",
    "plt.ticklabel_format(style='plain', axis='y', useOffset=False)\n",
    "ax.set_title('Verificação de Outliers', loc='left', fontsize=18, color=\"#353535\")\n",
    "ax.set_ylabel('Potência (kW)', fontsize=14,  color=\"#808080\")\n",
    "ax.figure.set_size_inches(7,4)\n",
    "ax=plt.show"
   ]
  },
  {
   "cell_type": "code",
   "execution_count": 95,
   "metadata": {
    "colab": {
     "base_uri": "https://localhost:8080/",
     "height": 263
    },
    "executionInfo": {
     "elapsed": 272,
     "status": "ok",
     "timestamp": 1679867429673,
     "user": {
      "displayName": "Liliane Paulino f. do Nascimento",
      "userId": "10025885037972274022"
     },
     "user_tz": 180
    },
    "id": "LAwUfB-M5TH_",
    "outputId": "71e604f9-9f93-4c3d-864f-58fc32ce2206"
   },
   "outputs": [
    {
     "data": {
      "text/html": [
       "<div>\n",
       "<style scoped>\n",
       "    .dataframe tbody tr th:only-of-type {\n",
       "        vertical-align: middle;\n",
       "    }\n",
       "\n",
       "    .dataframe tbody tr th {\n",
       "        vertical-align: top;\n",
       "    }\n",
       "\n",
       "    .dataframe thead th {\n",
       "        text-align: right;\n",
       "    }\n",
       "</style>\n",
       "<table border=\"1\" class=\"dataframe\">\n",
       "  <thead>\n",
       "    <tr style=\"text-align: right;\">\n",
       "      <th></th>\n",
       "      <th>NomEmpreendimento</th>\n",
       "      <th>SigUFPrincipal</th>\n",
       "      <th>SigTipoGeracao</th>\n",
       "      <th>DscOrigemCombustivel</th>\n",
       "      <th>DscFonteCombustivel</th>\n",
       "      <th>NomFonteCombustivel</th>\n",
       "      <th>MdaPotenciaOutorgadaKw</th>\n",
       "      <th>MdaPotenciaFiscalizadaKw</th>\n",
       "      <th>MdaGarantiaFisicaKw</th>\n",
       "      <th>DscFaseUsina</th>\n",
       "      <th>DscSubBacia</th>\n",
       "      <th>DatEntradaOperacao</th>\n",
       "      <th>DatInicioVigencia</th>\n",
       "      <th>DatFimVigencia</th>\n",
       "      <th>NumCoordNEmpreendimento</th>\n",
       "      <th>NumCoordEEmpreendimento</th>\n",
       "      <th>DscTipoOutorga</th>\n",
       "      <th>DscPropriRegimePariticipacao</th>\n",
       "      <th>DscMuninicpios</th>\n",
       "      <th>IdeNucleoCEG</th>\n",
       "      <th>CodCEG</th>\n",
       "      <th>IdcGeracaoQualificada</th>\n",
       "      <th>DatGeracaoConjuntoDados</th>\n",
       "    </tr>\n",
       "  </thead>\n",
       "  <tbody>\n",
       "    <tr>\n",
       "      <th>211</th>\n",
       "      <td>Itaipu (Parte Brasileira)</td>\n",
       "      <td>PR</td>\n",
       "      <td>UHE</td>\n",
       "      <td>Hídrica</td>\n",
       "      <td>Potencial hidráulico</td>\n",
       "      <td>Potencial hidráulico</td>\n",
       "      <td>7,000,000.00</td>\n",
       "      <td>7,000,000.00</td>\n",
       "      <td>7,750,800.00</td>\n",
       "      <td>Operação</td>\n",
       "      <td>64 - Parana, Paranapanema, Amambai e outros</td>\n",
       "      <td>1989-04-01</td>\n",
       "      <td>1973-08-30</td>\n",
       "      <td>2023-08-30</td>\n",
       "      <td>-25,40831282</td>\n",
       "      <td>-54,58741668</td>\n",
       "      <td>Concessão</td>\n",
       "      <td>100% para Itaipu Binacional (SP)</td>\n",
       "      <td>Foz do Iguaçu - PR</td>\n",
       "      <td>1161</td>\n",
       "      <td>UHE.PH.PR.001161-4.1</td>\n",
       "      <td>Não</td>\n",
       "      <td>2023-03-17</td>\n",
       "    </tr>\n",
       "    <tr>\n",
       "      <th>2398</th>\n",
       "      <td>Belo Monte</td>\n",
       "      <td>PA</td>\n",
       "      <td>UHE</td>\n",
       "      <td>Hídrica</td>\n",
       "      <td>Potencial hidráulico</td>\n",
       "      <td>Potencial hidráulico</td>\n",
       "      <td>11,233,100.00</td>\n",
       "      <td>11,233,100.00</td>\n",
       "      <td>4,418,900.00</td>\n",
       "      <td>Operação</td>\n",
       "      <td>18 - Xingu e Paru</td>\n",
       "      <td>2016-04-20</td>\n",
       "      <td>2010-08-26</td>\n",
       "      <td>2045-08-26</td>\n",
       "      <td>-3,12638900</td>\n",
       "      <td>-51,77500000</td>\n",
       "      <td>Concessão</td>\n",
       "      <td>100% para NORTE ENERGIA S/A (PIE)</td>\n",
       "      <td>Altamira - PA, Vitória do Xingu - PA</td>\n",
       "      <td>30354</td>\n",
       "      <td>UHE.PH.PA.030354-2.1</td>\n",
       "      <td>Não</td>\n",
       "      <td>2023-03-17</td>\n",
       "    </tr>\n",
       "  </tbody>\n",
       "</table>\n",
       "</div>"
      ],
      "text/plain": [
       "              NomEmpreendimento SigUFPrincipal SigTipoGeracao  \\\n",
       "211   Itaipu (Parte Brasileira)             PR            UHE   \n",
       "2398                 Belo Monte             PA            UHE   \n",
       "\n",
       "     DscOrigemCombustivel   DscFonteCombustivel   NomFonteCombustivel  \\\n",
       "211               Hídrica  Potencial hidráulico  Potencial hidráulico   \n",
       "2398              Hídrica  Potencial hidráulico  Potencial hidráulico   \n",
       "\n",
       "      MdaPotenciaOutorgadaKw  MdaPotenciaFiscalizadaKw  MdaGarantiaFisicaKw  \\\n",
       "211             7,000,000.00              7,000,000.00         7,750,800.00   \n",
       "2398           11,233,100.00             11,233,100.00         4,418,900.00   \n",
       "\n",
       "     DscFaseUsina                                   DscSubBacia  \\\n",
       "211      Operação   64 - Parana, Paranapanema, Amambai e outros   \n",
       "2398     Operação                             18 - Xingu e Paru   \n",
       "\n",
       "     DatEntradaOperacao DatInicioVigencia DatFimVigencia  \\\n",
       "211          1989-04-01        1973-08-30     2023-08-30   \n",
       "2398         2016-04-20        2010-08-26     2045-08-26   \n",
       "\n",
       "     NumCoordNEmpreendimento NumCoordEEmpreendimento DscTipoOutorga  \\\n",
       "211             -25,40831282            -54,58741668      Concessão   \n",
       "2398             -3,12638900            -51,77500000      Concessão   \n",
       "\n",
       "           DscPropriRegimePariticipacao                        DscMuninicpios  \\\n",
       "211    100% para Itaipu Binacional (SP)                    Foz do Iguaçu - PR   \n",
       "2398  100% para NORTE ENERGIA S/A (PIE)  Altamira - PA, Vitória do Xingu - PA   \n",
       "\n",
       "      IdeNucleoCEG                CodCEG IdcGeracaoQualificada  \\\n",
       "211           1161  UHE.PH.PR.001161-4.1                   Não   \n",
       "2398         30354  UHE.PH.PA.030354-2.1                   Não   \n",
       "\n",
       "     DatGeracaoConjuntoDados  \n",
       "211               2023-03-17  \n",
       "2398              2023-03-17  "
      ]
     },
     "execution_count": 95,
     "metadata": {},
     "output_type": "execute_result"
    }
   ],
   "source": [
    "df[(df['NomEmpreendimento'] == 'Itaipu (Parte Brasileira)') | (df['NomEmpreendimento'] == 'Belo Monte')]"
   ]
  },
  {
   "cell_type": "markdown",
   "metadata": {
    "id": "eIbwjVDbHckE"
   },
   "source": [
    "## Entendendo a distribuição Energética"
   ]
  },
  {
   "cell_type": "code",
   "execution_count": 96,
   "metadata": {
    "colab": {
     "base_uri": "https://localhost:8080/"
    },
    "executionInfo": {
     "elapsed": 22,
     "status": "ok",
     "timestamp": 1679866599468,
     "user": {
      "displayName": "Liliane Paulino f. do Nascimento",
      "userId": "10025885037972274022"
     },
     "user_tz": 180
    },
    "id": "D0OjpFcAjpfl",
    "outputId": "fdc95ee1-35a2-41c1-a1ac-437d34acbfe1"
   },
   "outputs": [
    {
     "data": {
      "text/plain": [
       "21820"
      ]
     },
     "execution_count": 96,
     "metadata": {},
     "output_type": "execute_result"
    }
   ],
   "source": [
    "#coluna que apresenta a chave-primária - valores únicos\n",
    "df['IdeNucleoCEG'].nunique()"
   ]
  },
  {
   "cell_type": "code",
   "execution_count": 97,
   "metadata": {
    "colab": {
     "base_uri": "https://localhost:8080/",
     "height": 388
    },
    "executionInfo": {
     "elapsed": 962,
     "status": "ok",
     "timestamp": 1679866600412,
     "user": {
      "displayName": "Liliane Paulino f. do Nascimento",
      "userId": "10025885037972274022"
     },
     "user_tz": 180
    },
    "id": "R2Kii0Qgbzpw",
    "outputId": "15e32a99-dbec-4548-a860-4887f0379fa0"
   },
   "outputs": [
    {
     "data": {
      "image/png": "[encoded data removed]",
      "text/plain": [
       "<Figure size 900x400 with 1 Axes>"
      ]
     },
     "metadata": {},
     "output_type": "display_data"
    }
   ],
   "source": [
    "sns.set_style(\"whitegrid\", {\"grid.color\": \"#f5f5f5\"})\n",
    "sns.set_style(rc={\"axes.labelcolor\": \"#808080\", \"xtick.color\": \"#808080\", \"ytick.color\": \"#808080\"})\n",
    "unique_counts = df.groupby('SigUFPrincipal')['IdeNucleoCEG'].nunique().sort_values()\n",
    "ax = sns.barplot(x=unique_counts.index, y=unique_counts.values, color='#1696d2')\n",
    "ax.set_title('Distribuição dos empreendimentos energéticos pelos estados', loc='left', fontsize=16, color=\"#353535\")\n",
    "ax.set_xlabel('Estado', fontsize=12,  color=\"#808080\")\n",
    "ax.set_ylabel('num de empreendimentos', fontsize=12,  color=\"#808080\")\n",
    "ax.figure.set_size_inches(9,4)"
   ]
  },
  {
   "cell_type": "code",
   "execution_count": 98,
   "metadata": {},
   "outputs": [
    {
     "data": {
      "text/plain": [
       "SigUFPrincipal\n",
       "AP       11\n",
       "DF       24\n",
       "AC       30\n",
       "SE       45\n",
       "AL       50\n",
       "MA       50\n",
       "TO       60\n",
       "PB       67\n",
       "ES       77\n",
       "RO       82\n",
       "RR      143\n",
       "PE      152\n",
       "GO      160\n",
       "CE      161\n",
       "PI      167\n",
       "RJ      213\n",
       "AM      228\n",
       "MT      231\n",
       "PR      265\n",
       "RN      298\n",
       "RS      382\n",
       "SC      421\n",
       "BA      452\n",
       "MG      790\n",
       "SP     1119\n",
       "MS     2951\n",
       "PA    13191\n",
       "Name: IdeNucleoCEG, dtype: int64"
      ]
     },
     "execution_count": 98,
     "metadata": {},
     "output_type": "execute_result"
    }
   ],
   "source": [
    "unique_counts"
   ]
  },
  {
   "cell_type": "code",
   "execution_count": 99,
   "metadata": {
    "colab": {
     "base_uri": "https://localhost:8080/"
    },
    "executionInfo": {
     "elapsed": 11,
     "status": "ok",
     "timestamp": 1679870596900,
     "user": {
      "displayName": "Liliane Paulino f. do Nascimento",
      "userId": "10025885037972274022"
     },
     "user_tz": 180
    },
    "id": "73ur-Cq6ET5P",
    "outputId": "8558ce41-2baf-49e4-f645-e93b62552050"
   },
   "outputs": [
    {
     "data": {
      "text/plain": [
       "16121"
      ]
     },
     "execution_count": 99,
     "metadata": {},
     "output_type": "execute_result"
    }
   ],
   "source": [
    "(df[df['MdaPotenciaFiscalizadaKw'] <= 10])['MdaPotenciaFiscalizadaKw'].count()"
   ]
  },
  {
   "cell_type": "code",
   "execution_count": 100,
   "metadata": {
    "colab": {
     "base_uri": "https://localhost:8080/"
    },
    "executionInfo": {
     "elapsed": 3,
     "status": "ok",
     "timestamp": 1679866962388,
     "user": {
      "displayName": "Liliane Paulino f. do Nascimento",
      "userId": "10025885037972274022"
     },
     "user_tz": 180
    },
    "id": "OkiedZpk2i3Y",
    "outputId": "1a2d5f8c-4c46-4a3f-f800-654a491bfb38"
   },
   "outputs": [
    {
     "data": {
      "text/html": [
       "<div>\n",
       "<style scoped>\n",
       "    .dataframe tbody tr th:only-of-type {\n",
       "        vertical-align: middle;\n",
       "    }\n",
       "\n",
       "    .dataframe tbody tr th {\n",
       "        vertical-align: top;\n",
       "    }\n",
       "\n",
       "    .dataframe thead th {\n",
       "        text-align: right;\n",
       "    }\n",
       "</style>\n",
       "<table border=\"1\" class=\"dataframe\">\n",
       "  <thead>\n",
       "    <tr style=\"text-align: right;\">\n",
       "      <th></th>\n",
       "      <th>DscMuninicpios</th>\n",
       "    </tr>\n",
       "  </thead>\n",
       "  <tbody>\n",
       "    <tr>\n",
       "      <th>Portel - PA</th>\n",
       "      <td>5708</td>\n",
       "    </tr>\n",
       "    <tr>\n",
       "      <th>Corumbá - MS</th>\n",
       "      <td>2865</td>\n",
       "    </tr>\n",
       "    <tr>\n",
       "      <th>Porto de Moz - PA</th>\n",
       "      <td>2288</td>\n",
       "    </tr>\n",
       "    <tr>\n",
       "      <th>Curralinho - PA</th>\n",
       "      <td>2210</td>\n",
       "    </tr>\n",
       "    <tr>\n",
       "      <th>Tucuruí - PA</th>\n",
       "      <td>1394</td>\n",
       "    </tr>\n",
       "    <tr>\n",
       "      <th>Melgaço - PA</th>\n",
       "      <td>1086</td>\n",
       "    </tr>\n",
       "    <tr>\n",
       "      <th>Prainha - PA</th>\n",
       "      <td>418</td>\n",
       "    </tr>\n",
       "    <tr>\n",
       "      <th>São Paulo - SP</th>\n",
       "      <td>227</td>\n",
       "    </tr>\n",
       "    <tr>\n",
       "      <th>Rio de Janeiro - RJ</th>\n",
       "      <td>84</td>\n",
       "    </tr>\n",
       "    <tr>\n",
       "      <th>Manacapuru - AM</th>\n",
       "      <td>82</td>\n",
       "    </tr>\n",
       "  </tbody>\n",
       "</table>\n",
       "</div>"
      ],
      "text/plain": [
       "                     DscMuninicpios\n",
       "Portel - PA                    5708\n",
       "Corumbá - MS                   2865\n",
       "Porto de Moz - PA              2288\n",
       "Curralinho - PA                2210\n",
       "Tucuruí - PA                   1394\n",
       "Melgaço - PA                   1086\n",
       "Prainha - PA                    418\n",
       "São Paulo - SP                  227\n",
       "Rio de Janeiro - RJ              84\n",
       "Manacapuru - AM                  82"
      ]
     },
     "execution_count": 100,
     "metadata": {},
     "output_type": "execute_result"
    }
   ],
   "source": [
    "df_municipios = df['DscMuninicpios'].value_counts(ascending=False).to_frame()\n",
    "df_municipios.head(10)"
   ]
  },
  {
   "cell_type": "code",
   "execution_count": 101,
   "metadata": {
    "colab": {
     "base_uri": "https://localhost:8080/",
     "height": 206
    },
    "executionInfo": {
     "elapsed": 16,
     "status": "ok",
     "timestamp": 1679866600413,
     "user": {
      "displayName": "Liliane Paulino f. do Nascimento",
      "userId": "10025885037972274022"
     },
     "user_tz": 180
    },
    "id": "UEWjq3ocdm4E",
    "outputId": "0f240dcc-99e7-47f3-a3bf-abdf44f153be"
   },
   "outputs": [
    {
     "data": {
      "text/html": [
       "<div>\n",
       "<style scoped>\n",
       "    .dataframe tbody tr th:only-of-type {\n",
       "        vertical-align: middle;\n",
       "    }\n",
       "\n",
       "    .dataframe tbody tr th {\n",
       "        vertical-align: top;\n",
       "    }\n",
       "\n",
       "    .dataframe thead th {\n",
       "        text-align: right;\n",
       "    }\n",
       "</style>\n",
       "<table border=\"1\" class=\"dataframe\">\n",
       "  <thead>\n",
       "    <tr style=\"text-align: right;\">\n",
       "      <th></th>\n",
       "      <th>estado</th>\n",
       "      <th>potencia_garantida</th>\n",
       "    </tr>\n",
       "  </thead>\n",
       "  <tbody>\n",
       "    <tr>\n",
       "      <th>0</th>\n",
       "      <td>AC</td>\n",
       "      <td>0.00</td>\n",
       "    </tr>\n",
       "    <tr>\n",
       "      <th>1</th>\n",
       "      <td>AL</td>\n",
       "      <td>46,130.00</td>\n",
       "    </tr>\n",
       "    <tr>\n",
       "      <th>2</th>\n",
       "      <td>AM</td>\n",
       "      <td>185,700.00</td>\n",
       "    </tr>\n",
       "    <tr>\n",
       "      <th>3</th>\n",
       "      <td>AP</td>\n",
       "      <td>542,700.00</td>\n",
       "    </tr>\n",
       "    <tr>\n",
       "      <th>4</th>\n",
       "      <td>BA</td>\n",
       "      <td>6,993,670.00</td>\n",
       "    </tr>\n",
       "  </tbody>\n",
       "</table>\n",
       "</div>"
      ],
      "text/plain": [
       "  estado  potencia_garantida\n",
       "0     AC                0.00\n",
       "1     AL           46,130.00\n",
       "2     AM          185,700.00\n",
       "3     AP          542,700.00\n",
       "4     BA        6,993,670.00"
      ]
     },
     "execution_count": 101,
     "metadata": {},
     "output_type": "execute_result"
    }
   ],
   "source": [
    "pot_estado_garantida = df.groupby('SigUFPrincipal')['MdaGarantiaFisicaKw'].sum()\n",
    "df_pot_estado_garantida = pd.DataFrame({'estado': pot_estado_garantida.index, 'potencia_garantida': pot_estado_garantida.values})\n",
    "df_pot_estado_garantida.head()"
   ]
  },
  {
   "cell_type": "markdown",
   "metadata": {},
   "source": [
    "Comparativo entre gráficos: Gráfico sem e com tratamento que possuem a mesma base de dados. "
   ]
  },
  {
   "cell_type": "code",
   "execution_count": 102,
   "metadata": {
    "colab": {
     "base_uri": "https://localhost:8080/",
     "height": 399
    },
    "executionInfo": {
     "elapsed": 1106,
     "status": "ok",
     "timestamp": 1679866601506,
     "user": {
      "displayName": "Liliane Paulino f. do Nascimento",
      "userId": "10025885037972274022"
     },
     "user_tz": 180
    },
    "id": "GPwBlVqak1x8",
    "outputId": "445717a3-1771-4b56-88d1-0dbacb7b9b2f"
   },
   "outputs": [
    {
     "data": {
      "image/png": "[encoded data removed]",
      "text/plain": [
       "<Figure size 640x480 with 1 Axes>"
      ]
     },
     "metadata": {},
     "output_type": "display_data"
    }
   ],
   "source": [
    "ax2 = sns.barplot(x='estado', y='potencia_garantida', data = df_pot_estado_garantida)"
   ]
  },
  {
   "cell_type": "code",
   "execution_count": 103,
   "metadata": {},
   "outputs": [
    {
     "data": {
      "image/png": "[encoded data removed]",
      "text/plain": [
       "<Figure size 900x400 with 1 Axes>"
      ]
     },
     "metadata": {},
     "output_type": "display_data"
    }
   ],
   "source": [
    "from matplotlib.ticker import ScalarFormatter\n",
    "ordenado = df_pot_estado_garantida.sort_values('potencia_garantida')\n",
    "ax2 = sns.barplot(x='estado', y='potencia_garantida', data = df_pot_estado_garantida, order=ordenado['estado'], color='#1696d2')\n",
    "ax2.set_ylabel('Potência Garantida (KW)')\n",
    "ax2.set_title('Distribuição da Potência Garantida de acordo com o estado', loc='left', fontsize=16, color=\"#353535\")\n",
    "ytick_labels = [f'{int(y):,}'.replace(',', '.') for y in ax2.get_yticks()]\n",
    "ytick_locs = ax2.get_yticks()\n",
    "ax2.set_yticks(ytick_locs)\n",
    "ax2.set_yticklabels(ytick_labels)\n",
    "ax2.figure.set_size_inches(9,4)\n"
   ]
  },
  {
   "cell_type": "code",
   "execution_count": 104,
   "metadata": {},
   "outputs": [
    {
     "data": {
      "text/html": [
       "<div>\n",
       "<style scoped>\n",
       "    .dataframe tbody tr th:only-of-type {\n",
       "        vertical-align: middle;\n",
       "    }\n",
       "\n",
       "    .dataframe tbody tr th {\n",
       "        vertical-align: top;\n",
       "    }\n",
       "\n",
       "    .dataframe thead th {\n",
       "        text-align: right;\n",
       "    }\n",
       "</style>\n",
       "<table border=\"1\" class=\"dataframe\">\n",
       "  <thead>\n",
       "    <tr style=\"text-align: right;\">\n",
       "      <th></th>\n",
       "      <th>estado</th>\n",
       "      <th>potencia_fiscalizada</th>\n",
       "    </tr>\n",
       "  </thead>\n",
       "  <tbody>\n",
       "    <tr>\n",
       "      <th>0</th>\n",
       "      <td>AC</td>\n",
       "      <td>142,883.00</td>\n",
       "    </tr>\n",
       "    <tr>\n",
       "      <th>1</th>\n",
       "      <td>AL</td>\n",
       "      <td>782,801.00</td>\n",
       "    </tr>\n",
       "    <tr>\n",
       "      <th>2</th>\n",
       "      <td>AM</td>\n",
       "      <td>2,086,461.00</td>\n",
       "    </tr>\n",
       "    <tr>\n",
       "      <th>3</th>\n",
       "      <td>AP</td>\n",
       "      <td>973,705.00</td>\n",
       "    </tr>\n",
       "    <tr>\n",
       "      <th>4</th>\n",
       "      <td>BA</td>\n",
       "      <td>15,975,508.00</td>\n",
       "    </tr>\n",
       "  </tbody>\n",
       "</table>\n",
       "</div>"
      ],
      "text/plain": [
       "  estado  potencia_fiscalizada\n",
       "0     AC            142,883.00\n",
       "1     AL            782,801.00\n",
       "2     AM          2,086,461.00\n",
       "3     AP            973,705.00\n",
       "4     BA         15,975,508.00"
      ]
     },
     "execution_count": 104,
     "metadata": {},
     "output_type": "execute_result"
    }
   ],
   "source": [
    "pot_estado_fisc = df.groupby('SigUFPrincipal')['MdaPotenciaFiscalizadaKw'].sum()\n",
    "df_pot_fisc_estado = pd.DataFrame({'estado': pot_estado_fisc.index, 'potencia_fiscalizada': pot_estado_fisc.values})\n",
    "df_pot_fisc_estado.head()"
   ]
  },
  {
   "cell_type": "code",
   "execution_count": 105,
   "metadata": {},
   "outputs": [
    {
     "data": {
      "image/png": "[encoded data removed]",
      "text/plain": [
       "<Figure size 900x400 with 1 Axes>"
      ]
     },
     "metadata": {},
     "output_type": "display_data"
    }
   ],
   "source": [
    "ordenado = df_pot_fisc_estado.sort_values('potencia_fiscalizada')\n",
    "ax_fisc = sns.barplot(x='estado', y='potencia_fiscalizada', data = df_pot_fisc_estado, order=ordenado['estado'], color='#fdbf11')\n",
    "ax_fisc.set_ylabel('Potência Fiscalizada (KW)')\n",
    "ax_fisc.set_title('Distribuição da Potência Fiscalizada de acordo com o estado', loc='left', fontsize=16, color=\"#353535\")\n",
    "ytick_labels = [f'{int(y):,}'.replace(',', '.') for y in ax_fisc.get_yticks()]\n",
    "ytick_locs = ax_fisc.get_yticks()\n",
    "ax_fisc.set_yticks(ytick_locs)\n",
    "ax_fisc.set_yticklabels(ytick_labels)\n",
    "ax_fisc.figure.set_size_inches(9,4)"
   ]
  },
  {
   "cell_type": "markdown",
   "metadata": {},
   "source": [
    "Entendendo a distribuição de energia por estado"
   ]
  },
  {
   "cell_type": "code",
   "execution_count": 106,
   "metadata": {},
   "outputs": [],
   "source": [
    "df_counts = df.groupby(['SigUFPrincipal', 'SigTipoGeracao']).count()['IdeNucleoCEG'].unstack()"
   ]
  },
  {
   "cell_type": "code",
   "execution_count": 107,
   "metadata": {},
   "outputs": [
    {
     "data": {
      "image/png": "[encoded data removed]",
      "text/plain": [
       "<Figure size 1200x1200 with 1 Axes>"
      ]
     },
     "metadata": {},
     "output_type": "display_data"
    }
   ],
   "source": [
    "colors=[\"#1696d2\",\"#fdbf11\",\"#353535\",\"#5c5859\",\"#696969\",\"#9d9d9d\", \"#d2d2d2\"]\n",
    "ordem_tipo_geração = ['UTE','UFV','PCH','CGH','EOL','UHE','UTN']\n",
    "ax03=(df_counts.div(df_counts.sum(axis=1), axis=0) * 100).plot.barh(stacked=True, color=colors,y=ordem_tipo_geração)\n",
    "ax03= plt.xlabel('proporção do tipo de geração')\n",
    "ax03=plt.ylabel('Estado')\n",
    "ax03=plt.title('Distribuição dos principais Tipos de Geração Energética',  loc='left', fontsize=16, color=\"#353535\")\n",
    "ax03=plt.legend(title='Tipo de geração', bbox_to_anchor=(1.05, 1), loc='upper left')\n",
    "ax03.figure.set_size_inches(12,12)"
   ]
  },
  {
   "cell_type": "markdown",
   "metadata": {},
   "source": [
    "O gráfico abaixo é o mesmo do grafico apresentado acima, porém sem nenhuma manipulação para melhoria de design."
   ]
  },
  {
   "cell_type": "code",
   "execution_count": 108,
   "metadata": {},
   "outputs": [
    {
     "data": {
      "text/plain": [
       "<matplotlib.legend.Legend at 0x2d302d61250>"
      ]
     },
     "execution_count": 108,
     "metadata": {},
     "output_type": "execute_result"
    },
    {
     "data": {
      "image/png": "[encoded data removed]",
      "text/plain": [
       "<Figure size 640x480 with 1 Axes>"
      ]
     },
     "metadata": {},
     "output_type": "display_data"
    }
   ],
   "source": [
    "ax03=(df_counts.div(df_counts.sum(axis=1), axis=0) * 100).plot.barh(stacked=True)\n",
    "plt.xlabel('% de empreendimentos')\n",
    "plt.ylabel('Estado')\n",
    "plt.legend(title='Tipo de geração')"
   ]
  },
  {
   "cell_type": "markdown",
   "metadata": {},
   "source": [
    "Esse grafico acima mostra um dados impressionante, a quantidade de usinas termoelétricas distribuidas pelo país. "
   ]
  },
  {
   "cell_type": "code",
   "execution_count": 109,
   "metadata": {},
   "outputs": [
    {
     "data": {
      "image/png": "[encoded data removed]",
      "text/plain": [
       "<Figure size 900x400 with 1 Axes>"
      ]
     },
     "metadata": {},
     "output_type": "display_data"
    }
   ],
   "source": [
    "df_termoeletrica = df[df['SigTipoGeracao'] == 'UTE']['SigUFPrincipal'].value_counts().to_frame()\n",
    "graph_termo = sns.catplot(x='index', y='SigUFPrincipal', kind='bar', data=df_termoeletrica.reset_index(), aspect=3, color=\"#1696d2\")\n",
    "graph_termo.set(title='Quantidade de Termoelétricas por Estado', xlabel='Estado', ylabel='unidade')\n",
    "graph_termo.figure.set_size_inches(9,4)\n",
    "\n"
   ]
  },
  {
   "cell_type": "code",
   "execution_count": 110,
   "metadata": {},
   "outputs": [
    {
     "data": {
      "text/plain": [
       "3027"
      ]
     },
     "execution_count": 110,
     "metadata": {},
     "output_type": "execute_result"
    }
   ],
   "source": [
    "df_termoeletrica = df[df['SigTipoGeracao'] == 'UTE']['SigUFPrincipal'].value_counts().sum()\n",
    "df_termoeletrica"
   ]
  },
  {
   "cell_type": "code",
   "execution_count": 111,
   "metadata": {},
   "outputs": [
    {
     "data": {
      "text/html": [
       "<div>\n",
       "<style scoped>\n",
       "    .dataframe tbody tr th:only-of-type {\n",
       "        vertical-align: middle;\n",
       "    }\n",
       "\n",
       "    .dataframe tbody tr th {\n",
       "        vertical-align: top;\n",
       "    }\n",
       "\n",
       "    .dataframe thead th {\n",
       "        text-align: right;\n",
       "    }\n",
       "</style>\n",
       "<table border=\"1\" class=\"dataframe\">\n",
       "  <thead>\n",
       "    <tr style=\"text-align: right;\">\n",
       "      <th></th>\n",
       "      <th>SigTipoGeracao</th>\n",
       "      <th>MdaPotenciaFiscalizadaKw</th>\n",
       "    </tr>\n",
       "  </thead>\n",
       "  <tbody>\n",
       "    <tr>\n",
       "      <th>0</th>\n",
       "      <td>CGH</td>\n",
       "      <td>862,241.00</td>\n",
       "    </tr>\n",
       "    <tr>\n",
       "      <th>1</th>\n",
       "      <td>EOL</td>\n",
       "      <td>25,053,921.00</td>\n",
       "    </tr>\n",
       "    <tr>\n",
       "      <th>2</th>\n",
       "      <td>PCH</td>\n",
       "      <td>5,732,357.00</td>\n",
       "    </tr>\n",
       "    <tr>\n",
       "      <th>3</th>\n",
       "      <td>UFV</td>\n",
       "      <td>8,214,233.00</td>\n",
       "    </tr>\n",
       "    <tr>\n",
       "      <th>4</th>\n",
       "      <td>UHE</td>\n",
       "      <td>103,195,357.00</td>\n",
       "    </tr>\n",
       "    <tr>\n",
       "      <th>5</th>\n",
       "      <td>UTE</td>\n",
       "      <td>46,165,457.00</td>\n",
       "    </tr>\n",
       "    <tr>\n",
       "      <th>6</th>\n",
       "      <td>UTN</td>\n",
       "      <td>1,990,000.00</td>\n",
       "    </tr>\n",
       "  </tbody>\n",
       "</table>\n",
       "</div>"
      ],
      "text/plain": [
       "  SigTipoGeracao MdaPotenciaFiscalizadaKw\n",
       "0            CGH               862,241.00\n",
       "1            EOL            25,053,921.00\n",
       "2            PCH             5,732,357.00\n",
       "3            UFV             8,214,233.00\n",
       "4            UHE           103,195,357.00\n",
       "5            UTE            46,165,457.00\n",
       "6            UTN             1,990,000.00"
      ]
     },
     "execution_count": 111,
     "metadata": {},
     "output_type": "execute_result"
    }
   ],
   "source": [
    "df_pot_energia = df.groupby('SigTipoGeracao')['MdaPotenciaFiscalizadaKw'].sum().to_frame().reset_index()\n",
    "# Cria cópia do dataframe df_pot_energia\n",
    "df_pot_energia_formatted = df_pot_energia.copy()\n",
    "\n",
    "# Formata a coluna 'MdaPotenciaFiscalizadaKw'\n",
    "df_pot_energia_formatted['MdaPotenciaFiscalizadaKw_formatted'] = df_pot_energia_formatted['MdaPotenciaFiscalizadaKw'].map('{:,.2f}'.format)\n",
    "\n",
    "# Cria o dataframe df_pot_energia_table a partir de df_pot_energia_formatted\n",
    "df_pot_energia_table = df_pot_energia_formatted[['SigTipoGeracao', 'MdaPotenciaFiscalizadaKw_formatted']].copy()\n",
    "\n",
    "# Renomeia a coluna 'MdaPotenciaFiscalizadaKw_formatted' para 'MdaPotenciaFiscalizadaKw'\n",
    "df_pot_energia_table = df_pot_energia_table.rename(columns={'MdaPotenciaFiscalizadaKw_formatted': 'MdaPotenciaFiscalizadaKw'})\n",
    "\n",
    "# Exibe o dataframe df_pot_energia_table\n",
    "df_pot_energia_table\n",
    "\n",
    "\n"
   ]
  },
  {
   "cell_type": "code",
   "execution_count": 112,
   "metadata": {},
   "outputs": [
    {
     "data": {
      "image/png": "[encoded data removed]",
      "text/plain": [
       "<Figure size 600x300 with 1 Axes>"
      ]
     },
     "metadata": {},
     "output_type": "display_data"
    }
   ],
   "source": [
    "ordem_graph = df_pot_energia.sort_values('MdaPotenciaFiscalizadaKw')\n",
    "pot_energy_graph = sns.catplot(x='SigTipoGeracao', y='MdaPotenciaFiscalizadaKw',\n",
    "     kind='bar', data=df_pot_energia, aspect=1, color=\"#1696d2\", order=list(ordem_graph['SigTipoGeracao']))\n",
    "# Definir rótulos dos eixos\n",
    "ytick_labels = [f'{int(y):,}'.replace(',', '.') for y in pot_energy_graph.ax.get_yticks()]\n",
    "ytick_locs = pot_energy_graph.ax.get_yticks()\n",
    "pot_energy_graph.ax.set_yticks(ytick_locs)\n",
    "pot_energy_graph.ax.set_yticklabels(ytick_labels)\n",
    "pot_energy_graph.fig.suptitle('Potência fiscalizada por tipo de geração energética', fontsize=12)\n",
    "plt.xlabel('Tipo de geração')\n",
    "plt.ylabel('Potência Fiscalizada (KW)')\n",
    "pot_energy_graph.figure.set_size_inches(6,3)\n",
    "\n"
   ]
  },
  {
   "cell_type": "code",
   "execution_count": 113,
   "metadata": {},
   "outputs": [],
   "source": [
    "df_classificacao_energia = df[['SigTipoGeracao', 'DscOrigemCombustivel', 'DscFonteCombustivel', \n",
    "                               'NomFonteCombustivel']].drop_duplicates().sort_values(by=['SigTipoGeracao',\n",
    "                                                                                          'DscOrigemCombustivel','DscFonteCombustivel', 'NomFonteCombustivel']).reset_index(drop=True)\n",
    "\n"
   ]
  },
  {
   "cell_type": "markdown",
   "metadata": {},
   "source": [
    "**Dataframe para mostrar todas as fontes de combustível da matriz energética** (aceito sugestões para melhorar)"
   ]
  },
  {
   "cell_type": "markdown",
   "metadata": {},
   "source": [
    "- grafico com a quantidade de usinas termeletricas por estado com os dadoscomputados acima\n",
    "- separar o tipode combustivel de acordo com a sigla de energia; tipo UFV=radiação solar"
   ]
  },
  {
   "cell_type": "code",
   "execution_count": 114,
   "metadata": {},
   "outputs": [
    {
     "data": {
      "text/html": [
       "<div>\n",
       "<style scoped>\n",
       "    .dataframe tbody tr th:only-of-type {\n",
       "        vertical-align: middle;\n",
       "    }\n",
       "\n",
       "    .dataframe tbody tr th {\n",
       "        vertical-align: top;\n",
       "    }\n",
       "\n",
       "    .dataframe thead th {\n",
       "        text-align: right;\n",
       "    }\n",
       "</style>\n",
       "<table border=\"1\" class=\"dataframe\">\n",
       "  <thead>\n",
       "    <tr style=\"text-align: right;\">\n",
       "      <th></th>\n",
       "      <th>SigTipoGeracao</th>\n",
       "      <th>DscOrigemCombustivel</th>\n",
       "      <th>DscFonteCombustivel</th>\n",
       "      <th>NomFonteCombustivel</th>\n",
       "    </tr>\n",
       "  </thead>\n",
       "  <tbody>\n",
       "    <tr>\n",
       "      <th>0</th>\n",
       "      <td>CGH</td>\n",
       "      <td>Hídrica</td>\n",
       "      <td>Potencial hidráulico</td>\n",
       "      <td>Potencial hidráulico</td>\n",
       "    </tr>\n",
       "    <tr>\n",
       "      <th>1</th>\n",
       "      <td>EOL</td>\n",
       "      <td>Eólica</td>\n",
       "      <td>Cinética do vento</td>\n",
       "      <td>Cinética do vento</td>\n",
       "    </tr>\n",
       "    <tr>\n",
       "      <th>2</th>\n",
       "      <td>PCH</td>\n",
       "      <td>Hídrica</td>\n",
       "      <td>Potencial hidráulico</td>\n",
       "      <td>Potencial hidráulico</td>\n",
       "    </tr>\n",
       "    <tr>\n",
       "      <th>3</th>\n",
       "      <td>UFV</td>\n",
       "      <td>Solar</td>\n",
       "      <td>Radiação solar</td>\n",
       "      <td>Radiação solar</td>\n",
       "    </tr>\n",
       "    <tr>\n",
       "      <th>4</th>\n",
       "      <td>UHE</td>\n",
       "      <td>Hídrica</td>\n",
       "      <td>Potencial hidráulico</td>\n",
       "      <td>Potencial hidráulico</td>\n",
       "    </tr>\n",
       "    <tr>\n",
       "      <th>5</th>\n",
       "      <td>UTE</td>\n",
       "      <td>Biomassa</td>\n",
       "      <td>Agroindustriais</td>\n",
       "      <td>Bagaço de Cana de Açúcar</td>\n",
       "    </tr>\n",
       "    <tr>\n",
       "      <th>6</th>\n",
       "      <td>UTE</td>\n",
       "      <td>Biomassa</td>\n",
       "      <td>Agroindustriais</td>\n",
       "      <td>Biogás-AGR</td>\n",
       "    </tr>\n",
       "    <tr>\n",
       "      <th>7</th>\n",
       "      <td>UTE</td>\n",
       "      <td>Biomassa</td>\n",
       "      <td>Agroindustriais</td>\n",
       "      <td>Capim Elefante</td>\n",
       "    </tr>\n",
       "    <tr>\n",
       "      <th>8</th>\n",
       "      <td>UTE</td>\n",
       "      <td>Biomassa</td>\n",
       "      <td>Agroindustriais</td>\n",
       "      <td>Casca de Arroz</td>\n",
       "    </tr>\n",
       "    <tr>\n",
       "      <th>9</th>\n",
       "      <td>UTE</td>\n",
       "      <td>Biomassa</td>\n",
       "      <td>Biocombustíveis líquidos</td>\n",
       "      <td>Etanol</td>\n",
       "    </tr>\n",
       "    <tr>\n",
       "      <th>10</th>\n",
       "      <td>UTE</td>\n",
       "      <td>Biomassa</td>\n",
       "      <td>Biocombustíveis líquidos</td>\n",
       "      <td>Óleos vegetais</td>\n",
       "    </tr>\n",
       "    <tr>\n",
       "      <th>11</th>\n",
       "      <td>UTE</td>\n",
       "      <td>Biomassa</td>\n",
       "      <td>Floresta</td>\n",
       "      <td>Biogás - Floresta</td>\n",
       "    </tr>\n",
       "    <tr>\n",
       "      <th>12</th>\n",
       "      <td>UTE</td>\n",
       "      <td>Biomassa</td>\n",
       "      <td>Floresta</td>\n",
       "      <td>Carvão Vegetal</td>\n",
       "    </tr>\n",
       "    <tr>\n",
       "      <th>13</th>\n",
       "      <td>UTE</td>\n",
       "      <td>Biomassa</td>\n",
       "      <td>Floresta</td>\n",
       "      <td>Gás de Alto Forno - Biomassa</td>\n",
       "    </tr>\n",
       "    <tr>\n",
       "      <th>14</th>\n",
       "      <td>UTE</td>\n",
       "      <td>Biomassa</td>\n",
       "      <td>Floresta</td>\n",
       "      <td>Lenha</td>\n",
       "    </tr>\n",
       "    <tr>\n",
       "      <th>15</th>\n",
       "      <td>UTE</td>\n",
       "      <td>Biomassa</td>\n",
       "      <td>Floresta</td>\n",
       "      <td>Licor Negro</td>\n",
       "    </tr>\n",
       "    <tr>\n",
       "      <th>16</th>\n",
       "      <td>UTE</td>\n",
       "      <td>Biomassa</td>\n",
       "      <td>Floresta</td>\n",
       "      <td>Resíduos Florestais</td>\n",
       "    </tr>\n",
       "    <tr>\n",
       "      <th>17</th>\n",
       "      <td>UTE</td>\n",
       "      <td>Biomassa</td>\n",
       "      <td>Resíduos animais</td>\n",
       "      <td>Biogás - RA</td>\n",
       "    </tr>\n",
       "    <tr>\n",
       "      <th>18</th>\n",
       "      <td>UTE</td>\n",
       "      <td>Biomassa</td>\n",
       "      <td>Resíduos sólidos urbanos</td>\n",
       "      <td>Biogás - RU</td>\n",
       "    </tr>\n",
       "    <tr>\n",
       "      <th>19</th>\n",
       "      <td>UTE</td>\n",
       "      <td>Biomassa</td>\n",
       "      <td>Resíduos sólidos urbanos</td>\n",
       "      <td>Carvão - RU</td>\n",
       "    </tr>\n",
       "    <tr>\n",
       "      <th>20</th>\n",
       "      <td>UTE</td>\n",
       "      <td>Biomassa</td>\n",
       "      <td>Resíduos sólidos urbanos</td>\n",
       "      <td>Resíduos Sólidos Urbanos - RU</td>\n",
       "    </tr>\n",
       "    <tr>\n",
       "      <th>21</th>\n",
       "      <td>UTE</td>\n",
       "      <td>Fóssil</td>\n",
       "      <td>Carvão mineral</td>\n",
       "      <td>Calor de Processo - CM</td>\n",
       "    </tr>\n",
       "    <tr>\n",
       "      <th>22</th>\n",
       "      <td>UTE</td>\n",
       "      <td>Fóssil</td>\n",
       "      <td>Carvão mineral</td>\n",
       "      <td>Carvão Mineral</td>\n",
       "    </tr>\n",
       "    <tr>\n",
       "      <th>23</th>\n",
       "      <td>UTE</td>\n",
       "      <td>Fóssil</td>\n",
       "      <td>Carvão mineral</td>\n",
       "      <td>Gás de Alto Forno - CM</td>\n",
       "    </tr>\n",
       "    <tr>\n",
       "      <th>24</th>\n",
       "      <td>UTE</td>\n",
       "      <td>Fóssil</td>\n",
       "      <td>Gás natural</td>\n",
       "      <td>Calor de Processo - GN</td>\n",
       "    </tr>\n",
       "    <tr>\n",
       "      <th>25</th>\n",
       "      <td>UTE</td>\n",
       "      <td>Fóssil</td>\n",
       "      <td>Gás natural</td>\n",
       "      <td>Gás Natural</td>\n",
       "    </tr>\n",
       "    <tr>\n",
       "      <th>26</th>\n",
       "      <td>UTE</td>\n",
       "      <td>Fóssil</td>\n",
       "      <td>Outros Fósseis</td>\n",
       "      <td>Calor de Processo - OF</td>\n",
       "    </tr>\n",
       "    <tr>\n",
       "      <th>27</th>\n",
       "      <td>UTE</td>\n",
       "      <td>Fóssil</td>\n",
       "      <td>Petróleo</td>\n",
       "      <td>Gás de Alto Forno - PE</td>\n",
       "    </tr>\n",
       "    <tr>\n",
       "      <th>28</th>\n",
       "      <td>UTE</td>\n",
       "      <td>Fóssil</td>\n",
       "      <td>Petróleo</td>\n",
       "      <td>Gás de Refinaria</td>\n",
       "    </tr>\n",
       "    <tr>\n",
       "      <th>29</th>\n",
       "      <td>UTE</td>\n",
       "      <td>Fóssil</td>\n",
       "      <td>Petróleo</td>\n",
       "      <td>Outros Energéticos de Petróleo</td>\n",
       "    </tr>\n",
       "    <tr>\n",
       "      <th>30</th>\n",
       "      <td>UTE</td>\n",
       "      <td>Fóssil</td>\n",
       "      <td>Petróleo</td>\n",
       "      <td>Óleo Combustível</td>\n",
       "    </tr>\n",
       "    <tr>\n",
       "      <th>31</th>\n",
       "      <td>UTE</td>\n",
       "      <td>Fóssil</td>\n",
       "      <td>Petróleo</td>\n",
       "      <td>Óleo Diesel</td>\n",
       "    </tr>\n",
       "    <tr>\n",
       "      <th>32</th>\n",
       "      <td>UTN</td>\n",
       "      <td>Nuclear</td>\n",
       "      <td>Urânio</td>\n",
       "      <td>Urânio</td>\n",
       "    </tr>\n",
       "  </tbody>\n",
       "</table>\n",
       "</div>"
      ],
      "text/plain": [
       "   SigTipoGeracao DscOrigemCombustivel       DscFonteCombustivel  \\\n",
       "0             CGH              Hídrica      Potencial hidráulico   \n",
       "1             EOL               Eólica         Cinética do vento   \n",
       "2             PCH              Hídrica      Potencial hidráulico   \n",
       "3             UFV                Solar            Radiação solar   \n",
       "4             UHE              Hídrica      Potencial hidráulico   \n",
       "5             UTE             Biomassa           Agroindustriais   \n",
       "6             UTE             Biomassa           Agroindustriais   \n",
       "7             UTE             Biomassa           Agroindustriais   \n",
       "8             UTE             Biomassa           Agroindustriais   \n",
       "9             UTE             Biomassa  Biocombustíveis líquidos   \n",
       "10            UTE             Biomassa  Biocombustíveis líquidos   \n",
       "11            UTE             Biomassa                  Floresta   \n",
       "12            UTE             Biomassa                  Floresta   \n",
       "13            UTE             Biomassa                  Floresta   \n",
       "14            UTE             Biomassa                  Floresta   \n",
       "15            UTE             Biomassa                  Floresta   \n",
       "16            UTE             Biomassa                  Floresta   \n",
       "17            UTE             Biomassa          Resíduos animais   \n",
       "18            UTE             Biomassa  Resíduos sólidos urbanos   \n",
       "19            UTE             Biomassa  Resíduos sólidos urbanos   \n",
       "20            UTE             Biomassa  Resíduos sólidos urbanos   \n",
       "21            UTE               Fóssil            Carvão mineral   \n",
       "22            UTE               Fóssil            Carvão mineral   \n",
       "23            UTE               Fóssil            Carvão mineral   \n",
       "24            UTE               Fóssil               Gás natural   \n",
       "25            UTE               Fóssil               Gás natural   \n",
       "26            UTE               Fóssil            Outros Fósseis   \n",
       "27            UTE               Fóssil                  Petróleo   \n",
       "28            UTE               Fóssil                  Petróleo   \n",
       "29            UTE               Fóssil                  Petróleo   \n",
       "30            UTE               Fóssil                  Petróleo   \n",
       "31            UTE               Fóssil                  Petróleo   \n",
       "32            UTN              Nuclear                    Urânio   \n",
       "\n",
       "               NomFonteCombustivel  \n",
       "0             Potencial hidráulico  \n",
       "1                Cinética do vento  \n",
       "2             Potencial hidráulico  \n",
       "3                   Radiação solar  \n",
       "4             Potencial hidráulico  \n",
       "5         Bagaço de Cana de Açúcar  \n",
       "6                       Biogás-AGR  \n",
       "7                   Capim Elefante  \n",
       "8                   Casca de Arroz  \n",
       "9                           Etanol  \n",
       "10                  Óleos vegetais  \n",
       "11               Biogás - Floresta  \n",
       "12                  Carvão Vegetal  \n",
       "13    Gás de Alto Forno - Biomassa  \n",
       "14                           Lenha  \n",
       "15                     Licor Negro  \n",
       "16             Resíduos Florestais  \n",
       "17                     Biogás - RA  \n",
       "18                     Biogás - RU  \n",
       "19                     Carvão - RU  \n",
       "20   Resíduos Sólidos Urbanos - RU  \n",
       "21          Calor de Processo - CM  \n",
       "22                  Carvão Mineral  \n",
       "23          Gás de Alto Forno - CM  \n",
       "24          Calor de Processo - GN  \n",
       "25                     Gás Natural  \n",
       "26          Calor de Processo - OF  \n",
       "27          Gás de Alto Forno - PE  \n",
       "28                Gás de Refinaria  \n",
       "29  Outros Energéticos de Petróleo  \n",
       "30                Óleo Combustível  \n",
       "31                     Óleo Diesel  \n",
       "32                          Urânio  "
      ]
     },
     "execution_count": 114,
     "metadata": {},
     "output_type": "execute_result"
    }
   ],
   "source": [
    "df_classificacao_energia"
   ]
  },
  {
   "cell_type": "markdown",
   "metadata": {
    "id": "n2NNkkgfIMo-"
   },
   "source": [
    "### Entendendo os Tipos de Energias Renováveis"
   ]
  },
  {
   "cell_type": "code",
   "execution_count": 115,
   "metadata": {},
   "outputs": [
    {
     "data": {
      "image/png": "[encoded data removed]",
      "text/plain": [
       "<Figure size 640x480 with 1 Axes>"
      ]
     },
     "metadata": {},
     "output_type": "display_data"
    }
   ],
   "source": [
    "df_ufv = df[df['SigTipoGeracao'] == 'UFV']\n",
    "df_ufv = df_ufv.assign(Year=pd.DatetimeIndex(df_ufv['DatEntradaOperacao']).year)\n",
    "df_ufv_count = df_ufv.groupby('Year')['SigTipoGeracao'].count().reset_index(name='Count')\n",
    "crescimento_solar = sns.lineplot(x='Year', y='Count', data=df_ufv_count)\n",
    "crescimento_solar.set(xlabel='', ylabel='Número de UFVs', title='Evolução da implantação de central Fotovoltaica')\n",
    "plt.show()\n",
    "\n"
   ]
  },
  {
   "cell_type": "code",
   "execution_count": 116,
   "metadata": {},
   "outputs": [
    {
     "data": {
      "image/png": "[encoded data removed]",
      "text/plain": [
       "<Figure size 640x480 with 1 Axes>"
      ]
     },
     "metadata": {},
     "output_type": "display_data"
    }
   ],
   "source": [
    "df_ufv = df[df['SigTipoGeracao'] == 'UFV']\n",
    "df_ufv = df_ufv.assign(Year=pd.DatetimeIndex(df_ufv['DatEntradaOperacao']).year)\n",
    "df_ufv = df_ufv[df_ufv['Year'] >= 2010] # incluir apenas anos a partir de 2010\n",
    "df_ufv_count = df_ufv.groupby('Year')['SigTipoGeracao'].count().reset_index(name='Count')\n",
    "crescimento_solar = sns.lineplot(x='Year', y='Count', data=df_ufv_count)\n",
    "crescimento_solar.set(xlabel='', ylabel='Número de UFVs', title='Período com maior surgimento de UFV')\n",
    "plt.show()\n"
   ]
  },
  {
   "cell_type": "code",
   "execution_count": 117,
   "metadata": {},
   "outputs": [
    {
     "data": {
      "text/html": [
       "<div>\n",
       "<style scoped>\n",
       "    .dataframe tbody tr th:only-of-type {\n",
       "        vertical-align: middle;\n",
       "    }\n",
       "\n",
       "    .dataframe tbody tr th {\n",
       "        vertical-align: top;\n",
       "    }\n",
       "\n",
       "    .dataframe thead th {\n",
       "        text-align: right;\n",
       "    }\n",
       "</style>\n",
       "<table border=\"1\" class=\"dataframe\">\n",
       "  <thead>\n",
       "    <tr style=\"text-align: right;\">\n",
       "      <th></th>\n",
       "      <th>MdaPotenciaOutorgadaKw</th>\n",
       "      <th>MdaPotenciaFiscalizadaKw</th>\n",
       "      <th>MdaGarantiaFisicaKw</th>\n",
       "    </tr>\n",
       "  </thead>\n",
       "  <tbody>\n",
       "    <tr>\n",
       "      <th>count</th>\n",
       "      <td>16,521.00</td>\n",
       "      <td>16,521.00</td>\n",
       "      <td>16,521.00</td>\n",
       "    </tr>\n",
       "    <tr>\n",
       "      <th>mean</th>\n",
       "      <td>498.59</td>\n",
       "      <td>497.20</td>\n",
       "      <td>89.62</td>\n",
       "    </tr>\n",
       "    <tr>\n",
       "      <th>std</th>\n",
       "      <td>4,443.63</td>\n",
       "      <td>4,431.22</td>\n",
       "      <td>1,082.66</td>\n",
       "    </tr>\n",
       "    <tr>\n",
       "      <th>min</th>\n",
       "      <td>0.26</td>\n",
       "      <td>0.00</td>\n",
       "      <td>0.00</td>\n",
       "    </tr>\n",
       "    <tr>\n",
       "      <th>25%</th>\n",
       "      <td>1.00</td>\n",
       "      <td>1.00</td>\n",
       "      <td>0.00</td>\n",
       "    </tr>\n",
       "    <tr>\n",
       "      <th>50%</th>\n",
       "      <td>1.00</td>\n",
       "      <td>1.00</td>\n",
       "      <td>0.00</td>\n",
       "    </tr>\n",
       "    <tr>\n",
       "      <th>75%</th>\n",
       "      <td>1.00</td>\n",
       "      <td>1.00</td>\n",
       "      <td>0.00</td>\n",
       "    </tr>\n",
       "    <tr>\n",
       "      <th>max</th>\n",
       "      <td>137,480.00</td>\n",
       "      <td>137,480.00</td>\n",
       "      <td>49,200.00</td>\n",
       "    </tr>\n",
       "  </tbody>\n",
       "</table>\n",
       "</div>"
      ],
      "text/plain": [
       "       MdaPotenciaOutorgadaKw  MdaPotenciaFiscalizadaKw  MdaGarantiaFisicaKw\n",
       "count               16,521.00                 16,521.00            16,521.00\n",
       "mean                   498.59                    497.20                89.62\n",
       "std                  4,443.63                  4,431.22             1,082.66\n",
       "min                      0.26                      0.00                 0.00\n",
       "25%                      1.00                      1.00                 0.00\n",
       "50%                      1.00                      1.00                 0.00\n",
       "75%                      1.00                      1.00                 0.00\n",
       "max                137,480.00                137,480.00            49,200.00"
      ]
     },
     "execution_count": 117,
     "metadata": {},
     "output_type": "execute_result"
    }
   ],
   "source": [
    "pd.options.display.float_format = '{:,.2f}'.format\n",
    "df[df['SigTipoGeracao'] == 'UFV'].drop('IdeNucleoCEG', axis=1).describe()\n"
   ]
  },
  {
   "cell_type": "code",
   "execution_count": 118,
   "metadata": {},
   "outputs": [
    {
     "data": {
      "text/html": [
       "<div>\n",
       "<style scoped>\n",
       "    .dataframe tbody tr th:only-of-type {\n",
       "        vertical-align: middle;\n",
       "    }\n",
       "\n",
       "    .dataframe tbody tr th {\n",
       "        vertical-align: top;\n",
       "    }\n",
       "\n",
       "    .dataframe thead th {\n",
       "        text-align: right;\n",
       "    }\n",
       "</style>\n",
       "<table border=\"1\" class=\"dataframe\">\n",
       "  <thead>\n",
       "    <tr style=\"text-align: right;\">\n",
       "      <th></th>\n",
       "      <th>NomEmpreendimento</th>\n",
       "      <th>DscMuninicpios</th>\n",
       "      <th>SigUFPrincipal</th>\n",
       "      <th>DscOrigemCombustivel</th>\n",
       "      <th>MdaPotenciaOutorgadaKw</th>\n",
       "      <th>MdaPotenciaFiscalizadaKw</th>\n",
       "      <th>MdaGarantiaFisicaKw</th>\n",
       "    </tr>\n",
       "  </thead>\n",
       "  <tbody>\n",
       "    <tr>\n",
       "      <th>5743</th>\n",
       "      <td>Serra do Mel I</td>\n",
       "      <td>Serra do Mel - RN</td>\n",
       "      <td>RN</td>\n",
       "      <td>Solar</td>\n",
       "      <td>137,480.00</td>\n",
       "      <td>137,480.00</td>\n",
       "      <td>49,200.00</td>\n",
       "    </tr>\n",
       "  </tbody>\n",
       "</table>\n",
       "</div>"
      ],
      "text/plain": [
       "     NomEmpreendimento     DscMuninicpios SigUFPrincipal DscOrigemCombustivel  \\\n",
       "5743    Serra do Mel I  Serra do Mel - RN             RN                Solar   \n",
       "\n",
       "      MdaPotenciaOutorgadaKw  MdaPotenciaFiscalizadaKw  MdaGarantiaFisicaKw  \n",
       "5743              137,480.00                137,480.00            49,200.00  "
      ]
     },
     "execution_count": 118,
     "metadata": {},
     "output_type": "execute_result"
    }
   ],
   "source": [
    "df_filtered_solar = df.loc[(df['SigTipoGeracao'] == 'UFV') & (df['MdaPotenciaOutorgadaKw'] == 137480), ['NomEmpreendimento','DscMuninicpios', 'SigUFPrincipal', 'DscOrigemCombustivel', 'MdaPotenciaOutorgadaKw', 'MdaPotenciaFiscalizadaKw', 'MdaGarantiaFisicaKw']]\n",
    "df_filtered_solar\n"
   ]
  },
  {
   "cell_type": "code",
   "execution_count": 119,
   "metadata": {},
   "outputs": [
    {
     "data": {
      "image/png": "[encoded data removed]",
      "text/plain": [
       "<Figure size 640x480 with 1 Axes>"
      ]
     },
     "metadata": {},
     "output_type": "display_data"
    }
   ],
   "source": [
    "df_eol = df[df['SigTipoGeracao'] == 'EOL']\n",
    "df_eol = df_eol.assign(Year=pd.DatetimeIndex(df_eol['DatEntradaOperacao']).year)\n",
    "df_eol_count = df_eol.groupby('Year')['SigTipoGeracao'].count().reset_index(name='Count')\n",
    "crescimento_eolica = sns.lineplot(x='Year', y='Count', data=df_eol_count)\n",
    "crescimento_eolica.set(xlabel='', ylabel='Número de EOLs', title='Evolução da implantação de Centrais Eólicas')\n",
    "plt.show()"
   ]
  },
  {
   "cell_type": "code",
   "execution_count": 120,
   "metadata": {},
   "outputs": [
    {
     "data": {
      "image/png": "[encoded data removed]",
      "text/plain": [
       "<Figure size 640x480 with 1 Axes>"
      ]
     },
     "metadata": {},
     "output_type": "display_data"
    }
   ],
   "source": [
    "df_eol = df[df['SigTipoGeracao'] == 'EOL']\n",
    "df_eol = df_eol.assign(Year=pd.DatetimeIndex(df_eol['DatEntradaOperacao']).year)\n",
    "df_eol = df_eol[df_eol['Year'] >= 2000] # incluir apenas anos a partir de 2000\n",
    "df_eol_count = df_eol.groupby('Year')['SigTipoGeracao'].count().reset_index(name='Count')\n",
    "crescimento_eolica = sns.lineplot(x='Year', y='Count', data=df_eol_count)\n",
    "crescimento_eolica.set(xlabel='', ylabel='Número de EOLs', title='Período com maior surgimento de EOLs')\n",
    "plt.show()"
   ]
  },
  {
   "cell_type": "code",
   "execution_count": 121,
   "metadata": {},
   "outputs": [
    {
     "data": {
      "text/html": [
       "<div>\n",
       "<style scoped>\n",
       "    .dataframe tbody tr th:only-of-type {\n",
       "        vertical-align: middle;\n",
       "    }\n",
       "\n",
       "    .dataframe tbody tr th {\n",
       "        vertical-align: top;\n",
       "    }\n",
       "\n",
       "    .dataframe thead th {\n",
       "        text-align: right;\n",
       "    }\n",
       "</style>\n",
       "<table border=\"1\" class=\"dataframe\">\n",
       "  <thead>\n",
       "    <tr style=\"text-align: right;\">\n",
       "      <th></th>\n",
       "      <th>MdaPotenciaOutorgadaKw</th>\n",
       "      <th>MdaPotenciaFiscalizadaKw</th>\n",
       "      <th>MdaGarantiaFisicaKw</th>\n",
       "    </tr>\n",
       "  </thead>\n",
       "  <tbody>\n",
       "    <tr>\n",
       "      <th>count</th>\n",
       "      <td>911.00</td>\n",
       "      <td>911.00</td>\n",
       "      <td>911.00</td>\n",
       "    </tr>\n",
       "    <tr>\n",
       "      <th>mean</th>\n",
       "      <td>27,844.59</td>\n",
       "      <td>27,501.56</td>\n",
       "      <td>11,860.55</td>\n",
       "    </tr>\n",
       "    <tr>\n",
       "      <th>std</th>\n",
       "      <td>12,852.25</td>\n",
       "      <td>12,498.90</td>\n",
       "      <td>7,494.38</td>\n",
       "    </tr>\n",
       "    <tr>\n",
       "      <th>min</th>\n",
       "      <td>0.16</td>\n",
       "      <td>0.00</td>\n",
       "      <td>0.00</td>\n",
       "    </tr>\n",
       "    <tr>\n",
       "      <th>25%</th>\n",
       "      <td>21,000.00</td>\n",
       "      <td>21,000.00</td>\n",
       "      <td>7,700.00</td>\n",
       "    </tr>\n",
       "    <tr>\n",
       "      <th>50%</th>\n",
       "      <td>28,200.00</td>\n",
       "      <td>28,050.00</td>\n",
       "      <td>12,290.00</td>\n",
       "    </tr>\n",
       "    <tr>\n",
       "      <th>75%</th>\n",
       "      <td>30,400.00</td>\n",
       "      <td>30,240.00</td>\n",
       "      <td>15,500.00</td>\n",
       "    </tr>\n",
       "    <tr>\n",
       "      <th>max</th>\n",
       "      <td>105,000.00</td>\n",
       "      <td>105,000.00</td>\n",
       "      <td>44,700.00</td>\n",
       "    </tr>\n",
       "  </tbody>\n",
       "</table>\n",
       "</div>"
      ],
      "text/plain": [
       "       MdaPotenciaOutorgadaKw  MdaPotenciaFiscalizadaKw  MdaGarantiaFisicaKw\n",
       "count                  911.00                    911.00               911.00\n",
       "mean                27,844.59                 27,501.56            11,860.55\n",
       "std                 12,852.25                 12,498.90             7,494.38\n",
       "min                      0.16                      0.00                 0.00\n",
       "25%                 21,000.00                 21,000.00             7,700.00\n",
       "50%                 28,200.00                 28,050.00            12,290.00\n",
       "75%                 30,400.00                 30,240.00            15,500.00\n",
       "max                105,000.00                105,000.00            44,700.00"
      ]
     },
     "execution_count": 121,
     "metadata": {},
     "output_type": "execute_result"
    }
   ],
   "source": [
    "pd.options.display.float_format = '{:,.2f}'.format\n",
    "df[df['SigTipoGeracao'] == 'EOL'].drop('IdeNucleoCEG', axis=1).describe()"
   ]
  },
  {
   "cell_type": "code",
   "execution_count": 122,
   "metadata": {},
   "outputs": [
    {
     "data": {
      "text/html": [
       "<div>\n",
       "<style scoped>\n",
       "    .dataframe tbody tr th:only-of-type {\n",
       "        vertical-align: middle;\n",
       "    }\n",
       "\n",
       "    .dataframe tbody tr th {\n",
       "        vertical-align: top;\n",
       "    }\n",
       "\n",
       "    .dataframe thead th {\n",
       "        text-align: right;\n",
       "    }\n",
       "</style>\n",
       "<table border=\"1\" class=\"dataframe\">\n",
       "  <thead>\n",
       "    <tr style=\"text-align: right;\">\n",
       "      <th></th>\n",
       "      <th>NomEmpreendimento</th>\n",
       "      <th>DscMuninicpios</th>\n",
       "      <th>SigUFPrincipal</th>\n",
       "      <th>DscOrigemCombustivel</th>\n",
       "      <th>MdaPotenciaOutorgadaKw</th>\n",
       "      <th>MdaPotenciaFiscalizadaKw</th>\n",
       "      <th>MdaGarantiaFisicaKw</th>\n",
       "    </tr>\n",
       "  </thead>\n",
       "  <tbody>\n",
       "    <tr>\n",
       "      <th>1071</th>\n",
       "      <td>Praia Formosa</td>\n",
       "      <td>Camocim - CE</td>\n",
       "      <td>CE</td>\n",
       "      <td>Eólica</td>\n",
       "      <td>105,000.00</td>\n",
       "      <td>105,000.00</td>\n",
       "      <td>28,830.00</td>\n",
       "    </tr>\n",
       "  </tbody>\n",
       "</table>\n",
       "</div>"
      ],
      "text/plain": [
       "     NomEmpreendimento DscMuninicpios SigUFPrincipal DscOrigemCombustivel  \\\n",
       "1071     Praia Formosa   Camocim - CE             CE               Eólica   \n",
       "\n",
       "      MdaPotenciaOutorgadaKw  MdaPotenciaFiscalizadaKw  MdaGarantiaFisicaKw  \n",
       "1071              105,000.00                105,000.00            28,830.00  "
      ]
     },
     "execution_count": 122,
     "metadata": {},
     "output_type": "execute_result"
    }
   ],
   "source": [
    "df_filtered = df.loc[(df['SigTipoGeracao'] == 'EOL') & (df['MdaPotenciaOutorgadaKw'] == 105000), ['NomEmpreendimento','DscMuninicpios', 'SigUFPrincipal', 'DscOrigemCombustivel', 'MdaPotenciaOutorgadaKw', 'MdaPotenciaFiscalizadaKw', 'MdaGarantiaFisicaKw']]\n",
    "df_filtered"
   ]
  }
 ],
 "metadata": {
  "colab": {
   "authorship_tag": "ABX9TyOE64hAcKWuKk92OeahU2dp",
   "provenance": []
  },
  "kernelspec": {
   "display_name": "Python 3 (ipykernel)",
   "language": "python",
   "name": "python3"
  },
  "language_info": {
   "codemirror_mode": {
    "name": "ipython",
    "version": 3
   },
   "file_extension": ".py",
   "mimetype": "text/x-python",
   "name": "python",
   "nbconvert_exporter": "python",
   "pygments_lexer": "ipython3",
   "version": "3.11.3"
  }
 },
 "nbformat": 4,
 "nbformat_minor": 1
}
